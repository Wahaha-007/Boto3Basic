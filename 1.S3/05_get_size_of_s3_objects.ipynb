{
 "cells": [
  {
   "cell_type": "markdown",
   "id": "official-fourth",
   "metadata": {},
   "source": [
    "## Get Size of s3 objects\n",
    "\n",
    "Let us go through the details about how we can get size of s3 objects using `MaxKeys` and `Marker`. We will improvise on top of getting count of s3 objects.\n",
    "\n",
    "* Here is the code used to get count of objects in s3.\n",
    "\n",
    "```python\n",
    "marker = ''\n",
    "object_count = 0\n",
    "while True:\n",
    "    s3_objects = s3_client.list_objects(\n",
    "        Bucket='itv-genlogs',\n",
    "        Prefix='logs/year',\n",
    "        Marker=marker,\n",
    "        MaxKeys=200\n",
    "    ).get('Contents')\n",
    "    if not s3_objects:\n",
    "        break\n",
    "    object_count += len(s3_objects)\n",
    "    marker = s3_objects[-1]['Key']\n",
    "    print(marker)\n",
    "```\n",
    "\n",
    "* Create client with appropriate profile.\n",
    "* Invoke `list_objects` in pages using `MaxKeys` and `Marker`.\n",
    "* Each entry in the output of `list_objects` contain `Size` along with `Key` and other details.\n",
    "* Add the Size of each entry to get the total size of our s3 Bucket. The size in each entry will be in Bytes and you might have to convert to mega bytes."
   ]
  },
  {
   "cell_type": "code",
   "execution_count": 1,
   "id": "lesser-session",
   "metadata": {},
   "outputs": [],
   "source": [
    "import boto3"
   ]
  },
  {
   "cell_type": "code",
   "execution_count": 2,
   "id": "express-husband",
   "metadata": {},
   "outputs": [
    {
     "data": {
      "text/plain": [
       "'itvgenlogs'"
      ]
     },
     "execution_count": 2,
     "metadata": {},
     "output_type": "execute_result"
    }
   ],
   "source": [
    "import os\n",
    "os.environ.setdefault('AWS_PROFILE', 'itvgenlogs')"
   ]
  },
  {
   "cell_type": "code",
   "execution_count": 3,
   "id": "expired-timothy",
   "metadata": {},
   "outputs": [],
   "source": [
    "s3_client = boto3.client('s3')"
   ]
  },
  {
   "cell_type": "code",
   "execution_count": 4,
   "id": "monetary-match",
   "metadata": {},
   "outputs": [],
   "source": [
    "s3_objects = s3_client.list_objects(\n",
    "    Bucket='itv-genlogs-mana00',\n",
    "    Prefix='logs/year'\n",
    ")"
   ]
  },
  {
   "cell_type": "code",
   "execution_count": 5,
   "id": "decimal-chance",
   "metadata": {},
   "outputs": [
    {
     "data": {
      "text/plain": [
       "dict_keys(['ResponseMetadata', 'IsTruncated', 'Marker', 'Contents', 'Name', 'Prefix', 'MaxKeys', 'EncodingType'])"
      ]
     },
     "execution_count": 5,
     "metadata": {},
     "output_type": "execute_result"
    }
   ],
   "source": [
    "s3_objects.keys()"
   ]
  },
  {
   "cell_type": "code",
   "execution_count": 6,
   "id": "unlimited-sudan",
   "metadata": {},
   "outputs": [
    {
     "data": {
      "text/plain": [
       "{'Key': 'logs/year=2024/month=02/day=16/gen_logs_s3-1-2024-02-16-12-51-20-2b9337a1-7e5c-4a5d-84cc-3587b8d40e07',\n",
       " 'LastModified': datetime.datetime(2024, 2, 16, 12, 52, 22, tzinfo=tzutc()),\n",
       " 'ETag': '\"d7592fc75dbb74e210dfe695cab29f83\"',\n",
       " 'Size': 24450,\n",
       " 'StorageClass': 'STANDARD',\n",
       " 'Owner': {'DisplayName': 'laiaddara',\n",
       "  'ID': '709f2485bbc57aa0687e130826e0d8c48d3beaba7e7f08305a5a39db5536f4f3'}}"
      ]
     },
     "execution_count": 6,
     "metadata": {},
     "output_type": "execute_result"
    }
   ],
   "source": [
    "s3_objects['Contents'][0]"
   ]
  },
  {
   "cell_type": "code",
   "execution_count": 7,
   "id": "brilliant-developer",
   "metadata": {},
   "outputs": [
    {
     "data": {
      "text/plain": [
       "24450"
      ]
     },
     "execution_count": 7,
     "metadata": {},
     "output_type": "execute_result"
    }
   ],
   "source": [
    "s3_objects['Contents'][0]['Size']"
   ]
  },
  {
   "cell_type": "code",
   "execution_count": 8,
   "id": "oriental-jones",
   "metadata": {},
   "outputs": [],
   "source": [
    "objects_size = 0.0\n",
    "\n",
    "for s3_object in s3_objects['Contents']:\n",
    "    objects_size += s3_object['Size']"
   ]
  },
  {
   "cell_type": "code",
   "execution_count": 9,
   "id": "skilled-learning",
   "metadata": {},
   "outputs": [
    {
     "data": {
      "text/plain": [
       "97512.0"
      ]
     },
     "execution_count": 9,
     "metadata": {},
     "output_type": "execute_result"
    }
   ],
   "source": [
    "objects_size"
   ]
  },
  {
   "cell_type": "code",
   "execution_count": 10,
   "id": "instant-pacific",
   "metadata": {},
   "outputs": [
    {
     "name": "stdout",
     "output_type": "stream",
     "text": [
      "Collecting hurry.filesize\n",
      "  Downloading hurry.filesize-0.9.tar.gz (2.8 kB)\n",
      "Requirement already satisfied: setuptools in ./GenLogsS3-venv/lib/python3.8/site-packages (from hurry.filesize) (44.0.0)\n",
      "Building wheels for collected packages: hurry.filesize\n",
      "  Building wheel for hurry.filesize (setup.py) ... \u001b[?25lerror\n",
      "\u001b[31m  ERROR: Command errored out with exit status 1:\n",
      "   command: /home/wahaha/Projects/Internal/GenlogsS3/GenLogsS3-venv/bin/python3 -u -c 'import sys, setuptools, tokenize; sys.argv[0] = '\"'\"'/tmp/pip-install-tl3s2szx/hurry.filesize/setup.py'\"'\"'; __file__='\"'\"'/tmp/pip-install-tl3s2szx/hurry.filesize/setup.py'\"'\"';f=getattr(tokenize, '\"'\"'open'\"'\"', open)(__file__);code=f.read().replace('\"'\"'\\r\\n'\"'\"', '\"'\"'\\n'\"'\"');f.close();exec(compile(code, __file__, '\"'\"'exec'\"'\"'))' bdist_wheel -d /tmp/pip-wheel-54o_yuv8\n",
      "       cwd: /tmp/pip-install-tl3s2szx/hurry.filesize/\n",
      "  Complete output (6 lines):\n",
      "  usage: setup.py [global_opts] cmd1 [cmd1_opts] [cmd2 [cmd2_opts] ...]\n",
      "     or: setup.py --help [cmd1 cmd2 ...]\n",
      "     or: setup.py --help-commands\n",
      "     or: setup.py cmd --help\n",
      "  \n",
      "  error: invalid command 'bdist_wheel'\n",
      "  ----------------------------------------\u001b[0m\n",
      "\u001b[31m  ERROR: Failed building wheel for hurry.filesize\u001b[0m\n",
      "\u001b[?25h  Running setup.py clean for hurry.filesize\n",
      "Failed to build hurry.filesize\n",
      "Installing collected packages: hurry.filesize\n",
      "    Running setup.py install for hurry.filesize ... \u001b[?25ldone\n",
      "\u001b[?25hSuccessfully installed hurry.filesize-0.9\n"
     ]
    }
   ],
   "source": [
    "!pip install hurry.filesize"
   ]
  },
  {
   "cell_type": "code",
   "execution_count": 11,
   "id": "national-package",
   "metadata": {},
   "outputs": [
    {
     "ename": "ModuleNotFoundError",
     "evalue": "No module named 'hurry'",
     "output_type": "error",
     "traceback": [
      "\u001b[0;31m---------------------------------------------------------------------------\u001b[0m",
      "\u001b[0;31mModuleNotFoundError\u001b[0m                       Traceback (most recent call last)",
      "Cell \u001b[0;32mIn[11], line 1\u001b[0m\n\u001b[0;32m----> 1\u001b[0m \u001b[38;5;28;01mfrom\u001b[39;00m \u001b[38;5;21;01mhurry\u001b[39;00m\u001b[38;5;21;01m.\u001b[39;00m\u001b[38;5;21;01mfilesize\u001b[39;00m \u001b[38;5;28;01mimport\u001b[39;00m size\n\u001b[1;32m      2\u001b[0m size(objects_size)\n",
      "\u001b[0;31mModuleNotFoundError\u001b[0m: No module named 'hurry'"
     ]
    }
   ],
   "source": [
    "from hurry.filesize import size\n",
    "size(objects_size)"
   ]
  },
  {
   "cell_type": "code",
   "execution_count": null,
   "id": "russian-special",
   "metadata": {},
   "outputs": [],
   "source": [
    "marker = ''\n",
    "objects_size = 0.0\n",
    "while True:\n",
    "    s3_objects = s3_client.list_objects(\n",
    "        Bucket='itv-genlogs-mana00',\n",
    "        Prefix='logs/year',\n",
    "        Marker=marker,\n",
    "        MaxKeys=200\n",
    "    ).get('Contents')\n",
    "    if not s3_objects:\n",
    "        break\n",
    "    for s3_object in s3_objects:\n",
    "        objects_size += s3_object['Size']\n",
    "    marker = s3_objects[-1]['Key']\n",
    "    print(marker)"
   ]
  },
  {
   "cell_type": "code",
   "execution_count": null,
   "id": "metallic-wheel",
   "metadata": {},
   "outputs": [],
   "source": [
    "objects_size"
   ]
  },
  {
   "cell_type": "code",
   "execution_count": null,
   "id": "prepared-mentor",
   "metadata": {},
   "outputs": [],
   "source": [
    "size(objects_size)"
   ]
  },
  {
   "cell_type": "code",
   "execution_count": null,
   "id": "natural-climate",
   "metadata": {},
   "outputs": [],
   "source": []
  }
 ],
 "metadata": {
  "kernelspec": {
   "display_name": "Python 3 (ipykernel)",
   "language": "python",
   "name": "python3"
  },
  "language_info": {
   "codemirror_mode": {
    "name": "ipython",
    "version": 3
   },
   "file_extension": ".py",
   "mimetype": "text/x-python",
   "name": "python",
   "nbconvert_exporter": "python",
   "pygments_lexer": "ipython3",
   "version": "3.8.10"
  }
 },
 "nbformat": 4,
 "nbformat_minor": 5
}
