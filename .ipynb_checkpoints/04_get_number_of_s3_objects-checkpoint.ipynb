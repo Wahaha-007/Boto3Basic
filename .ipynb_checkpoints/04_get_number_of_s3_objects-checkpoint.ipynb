{
 "cells": [
  {
   "cell_type": "markdown",
   "id": "polyphonic-tiffany",
   "metadata": {},
   "source": [
    "## Get number of s3 objects\n",
    "\n",
    "Let us go through the details about how we can get number of s3 objects. We will understand the relevance of **Marker** to paginate `list_objects` output using boto3.\n",
    "\n",
    "* One of the way to get s3 object metadata from a given bucket is to use `list_objects`.\n",
    "* However, `list_objects` gets metadata only for 1000 objects at max.\n",
    "* We need to paginate using `Marker` and iterate until we get details about all the objects.\n",
    "\n",
    "Here are the steps we can follow to get the number of s3 objects with in a bucket.\n",
    "* Create s3 client with appropriate profile.\n",
    "* Invoke list_objects incrementally using `Marker` until you get details about all the objects.\n",
    "* Get number of elements in the `Contents` and add it to object count. We can break the loop when the size of `Contents` list is less than 1000 or when `Contents` does not exists as part of the response."
   ]
  },
  {
   "cell_type": "code",
   "execution_count": 1,
   "id": "sealed-germany",
   "metadata": {},
   "outputs": [],
   "source": [
    "import boto3"
   ]
  },
  {
   "cell_type": "code",
   "execution_count": 2,
   "id": "intellectual-regular",
   "metadata": {},
   "outputs": [
    {
     "data": {
      "text/plain": [
       "'itvgenlogs'"
      ]
     },
     "execution_count": 2,
     "metadata": {},
     "output_type": "execute_result"
    }
   ],
   "source": [
    "import os\n",
    "os.environ.setdefault('AWS_PROFILE', 'itvgenlogs')"
   ]
  },
  {
   "cell_type": "code",
   "execution_count": 3,
   "id": "polished-skill",
   "metadata": {},
   "outputs": [],
   "source": [
    "s3_client = boto3.client('s3')"
   ]
  },
  {
   "cell_type": "markdown",
   "id": "21cdcd69-befa-45e6-a148-f233a6f93142",
   "metadata": {},
   "source": [
    "### 1. Test Code"
   ]
  },
  {
   "cell_type": "code",
   "execution_count": 4,
   "id": "working-there",
   "metadata": {},
   "outputs": [],
   "source": [
    "s3_objects = s3_client.list_objects(\n",
    "    Bucket='itv-genlogs-mana00',\n",
    "    Prefix='logs/year'\n",
    ")"
   ]
  },
  {
   "cell_type": "code",
   "execution_count": 5,
   "id": "later-database",
   "metadata": {},
   "outputs": [
    {
     "data": {
      "text/plain": [
       "dict_keys(['ResponseMetadata', 'IsTruncated', 'Marker', 'Contents', 'Name', 'Prefix', 'MaxKeys', 'EncodingType'])"
      ]
     },
     "execution_count": 5,
     "metadata": {},
     "output_type": "execute_result"
    }
   ],
   "source": [
    "s3_objects.keys()"
   ]
  },
  {
   "cell_type": "code",
   "execution_count": 6,
   "id": "built-dylan",
   "metadata": {},
   "outputs": [
    {
     "data": {
      "text/plain": [
       "''"
      ]
     },
     "execution_count": 6,
     "metadata": {},
     "output_type": "execute_result"
    }
   ],
   "source": [
    "s3_objects['Marker'] # Is the key of the last read element"
   ]
  },
  {
   "cell_type": "code",
   "execution_count": 7,
   "id": "alpine-clear",
   "metadata": {},
   "outputs": [
    {
     "data": {
      "text/plain": [
       "1000"
      ]
     },
     "execution_count": 7,
     "metadata": {},
     "output_type": "execute_result"
    }
   ],
   "source": [
    "s3_objects['MaxKeys']"
   ]
  },
  {
   "cell_type": "code",
   "execution_count": 8,
   "id": "dried-aircraft",
   "metadata": {},
   "outputs": [
    {
     "data": {
      "text/plain": [
       "7"
      ]
     },
     "execution_count": 8,
     "metadata": {},
     "output_type": "execute_result"
    }
   ],
   "source": [
    "len(s3_objects['Contents'])"
   ]
  },
  {
   "cell_type": "code",
   "execution_count": 9,
   "id": "offshore-forwarding",
   "metadata": {},
   "outputs": [
    {
     "data": {
      "text/plain": [
       "'logs/year=2024/month=02/day=16/gen_logs_s3-1-2024-02-16-12-58-26-80ac9ca0-1fe2-446b-b0fc-ad0ba6a991a4'"
      ]
     },
     "execution_count": 9,
     "metadata": {},
     "output_type": "execute_result"
    }
   ],
   "source": [
    "s3_objects['Contents'][-1]['Key'] # The last element is the list"
   ]
  },
  {
   "cell_type": "code",
   "execution_count": 10,
   "id": "broken-recruitment",
   "metadata": {},
   "outputs": [],
   "source": [
    "marker = s3_objects['Contents'][-1]['Key'] # Marker is for input value, we need to prepare them for the function"
   ]
  },
  {
   "cell_type": "code",
   "execution_count": 11,
   "id": "funded-vision",
   "metadata": {},
   "outputs": [],
   "source": [
    "s3_objects = s3_client.list_objects(\n",
    "    Bucket='itv-genlogs-mana00',\n",
    "    Prefix='logs/year',\n",
    "    Marker=marker\n",
    ")"
   ]
  },
  {
   "cell_type": "code",
   "execution_count": 12,
   "id": "acceptable-multimedia",
   "metadata": {},
   "outputs": [
    {
     "data": {
      "text/plain": [
       "'logs/year=2024/month=02/day=16/gen_logs_s3-1-2024-02-16-12-58-26-80ac9ca0-1fe2-446b-b0fc-ad0ba6a991a4'"
      ]
     },
     "execution_count": 12,
     "metadata": {},
     "output_type": "execute_result"
    }
   ],
   "source": [
    "s3_objects['Marker']"
   ]
  },
  {
   "cell_type": "code",
   "execution_count": 20,
   "id": "suspended-heritage",
   "metadata": {},
   "outputs": [
    {
     "ename": "TypeError",
     "evalue": "'NoneType' object is not subscriptable",
     "output_type": "error",
     "traceback": [
      "\u001b[0;31m---------------------------------------------------------------------------\u001b[0m",
      "\u001b[0;31mTypeError\u001b[0m                                 Traceback (most recent call last)",
      "Cell \u001b[0;32mIn[20], line 1\u001b[0m\n\u001b[0;32m----> 1\u001b[0m \u001b[43ms3_objects\u001b[49m\u001b[43m[\u001b[49m\u001b[38;5;124;43m'\u001b[39;49m\u001b[38;5;124;43mContents\u001b[39;49m\u001b[38;5;124;43m'\u001b[39;49m\u001b[43m]\u001b[49m \u001b[38;5;66;03m# s3_objects == NULL\u001b[39;00m\n",
      "\u001b[0;31mTypeError\u001b[0m: 'NoneType' object is not subscriptable"
     ]
    }
   ],
   "source": [
    "s3_objects['Contents'] # s3_objects == NULL"
   ]
  },
  {
   "cell_type": "markdown",
   "id": "62a11764-4c48-419b-8e3e-1fbb12c8ae3f",
   "metadata": {},
   "source": [
    "### 2. Real Code"
   ]
  },
  {
   "cell_type": "code",
   "execution_count": 14,
   "id": "single-progressive",
   "metadata": {},
   "outputs": [
    {
     "name": "stdout",
     "output_type": "stream",
     "text": [
      "logs/year=2024/month=02/day=16/gen_logs_s3-1-2024-02-16-12-58-26-80ac9ca0-1fe2-446b-b0fc-ad0ba6a991a4\n"
     ]
    }
   ],
   "source": [
    "marker = ''\n",
    "object_count = 0\n",
    "while True:\n",
    "    s3_objects = s3_client.list_objects(\n",
    "        Bucket='itv-genlogs-mana00',\n",
    "        Prefix='logs/year',\n",
    "        Marker=marker,\n",
    "        MaxKeys=200  # Read 200 items at a time, default 1000\n",
    "    ).get('Contents') # Notice that we use .get here ,not ['']\n",
    "    if not s3_objects:\n",
    "        break\n",
    "    object_count += len(s3_objects)\n",
    "    marker = s3_objects[-1]['Key']\n",
    "    print(marker)"
   ]
  },
  {
   "cell_type": "code",
   "execution_count": 15,
   "id": "narrow-smith",
   "metadata": {},
   "outputs": [
    {
     "data": {
      "text/plain": [
       "7"
      ]
     },
     "execution_count": 15,
     "metadata": {},
     "output_type": "execute_result"
    }
   ],
   "source": [
    "object_count"
   ]
  },
  {
   "cell_type": "code",
   "execution_count": null,
   "id": "proper-inspection",
   "metadata": {},
   "outputs": [],
   "source": []
  }
 ],
 "metadata": {
  "kernelspec": {
   "display_name": "Python 3 (ipykernel)",
   "language": "python",
   "name": "python3"
  },
  "language_info": {
   "codemirror_mode": {
    "name": "ipython",
    "version": 3
   },
   "file_extension": ".py",
   "mimetype": "text/x-python",
   "name": "python",
   "nbconvert_exporter": "python",
   "pygments_lexer": "ipython3",
   "version": "3.8.10"
  }
 },
 "nbformat": 4,
 "nbformat_minor": 5
}
