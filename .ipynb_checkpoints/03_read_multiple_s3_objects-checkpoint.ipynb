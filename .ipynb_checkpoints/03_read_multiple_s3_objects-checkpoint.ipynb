{
 "cells": [
  {
   "cell_type": "markdown",
   "id": "fantastic-strike",
   "metadata": {},
   "source": [
    "## Read multiple s3 objects\n",
    "\n",
    "Let us understand how we can read multiple s3 objects into the collection.\n",
    "* Create client using appropriate profile.\n",
    "* Get 10 objects using the client.\n",
    "* Read the content of all 10 objects into collection"
   ]
  },
  {
   "cell_type": "code",
   "execution_count": 1,
   "id": "second-basket",
   "metadata": {},
   "outputs": [],
   "source": [
    "import boto3"
   ]
  },
  {
   "cell_type": "code",
   "execution_count": 2,
   "id": "therapeutic-sunglasses",
   "metadata": {},
   "outputs": [
    {
     "data": {
      "text/plain": [
       "'itvgenlogs'"
      ]
     },
     "execution_count": 2,
     "metadata": {},
     "output_type": "execute_result"
    }
   ],
   "source": [
    "import os\n",
    "os.environ.setdefault('AWS_PROFILE', 'itvgenlogs')"
   ]
  },
  {
   "cell_type": "code",
   "execution_count": 3,
   "id": "compatible-motion",
   "metadata": {},
   "outputs": [],
   "source": [
    "s3_client = boto3.client('s3')"
   ]
  },
  {
   "cell_type": "code",
   "execution_count": 4,
   "id": "dietary-indiana",
   "metadata": {},
   "outputs": [],
   "source": [
    "s3_objects = s3_client.list_objects(\n",
    "    Bucket='itv-genlogs-mana00',\n",
    "    Prefix='logs/year',\n",
    "    MaxKeys=10\n",
    ")"
   ]
  },
  {
   "cell_type": "code",
   "execution_count": 5,
   "id": "classified-threat",
   "metadata": {
    "scrolled": true
   },
   "outputs": [
    {
     "data": {
      "text/plain": [
       "[{'Key': 'logs/year=2024/month=02/day=16/gen_logs_s3-1-2024-02-16-12-51-20-2b9337a1-7e5c-4a5d-84cc-3587b8d40e07',\n",
       "  'LastModified': datetime.datetime(2024, 2, 16, 12, 52, 22, tzinfo=tzutc()),\n",
       "  'ETag': '\"d7592fc75dbb74e210dfe695cab29f83\"',\n",
       "  'Size': 24450,\n",
       "  'StorageClass': 'STANDARD',\n",
       "  'Owner': {'DisplayName': 'laiaddara',\n",
       "   'ID': '709f2485bbc57aa0687e130826e0d8c48d3beaba7e7f08305a5a39db5536f4f3'}},\n",
       " {'Key': 'logs/year=2024/month=02/day=16/gen_logs_s3-1-2024-02-16-12-53-21-23cefb72-3c41-4dd8-8da0-0597a1b0494d',\n",
       "  'LastModified': datetime.datetime(2024, 2, 16, 12, 54, 22, tzinfo=tzutc()),\n",
       "  'ETag': '\"8eb5281271d1bcfc800c8893036a6a94\"',\n",
       "  'Size': 12509,\n",
       "  'StorageClass': 'STANDARD',\n",
       "  'Owner': {'DisplayName': 'laiaddara',\n",
       "   'ID': '709f2485bbc57aa0687e130826e0d8c48d3beaba7e7f08305a5a39db5536f4f3'}},\n",
       " {'Key': 'logs/year=2024/month=02/day=16/gen_logs_s3-1-2024-02-16-12-54-22-18f05e40-b7a1-452c-8bf8-d059b0913ef5',\n",
       "  'LastModified': datetime.datetime(2024, 2, 16, 12, 55, 23, tzinfo=tzutc()),\n",
       "  'ETag': '\"17e147837b7e8043d18838828cafaee4\"',\n",
       "  'Size': 12066,\n",
       "  'StorageClass': 'STANDARD',\n",
       "  'Owner': {'DisplayName': 'laiaddara',\n",
       "   'ID': '709f2485bbc57aa0687e130826e0d8c48d3beaba7e7f08305a5a39db5536f4f3'}},\n",
       " {'Key': 'logs/year=2024/month=02/day=16/gen_logs_s3-1-2024-02-16-12-55-23-d9eae8b4-a812-4f2e-9f5d-a5ff076d3eec',\n",
       "  'LastModified': datetime.datetime(2024, 2, 16, 12, 56, 24, tzinfo=tzutc()),\n",
       "  'ETag': '\"ee15605770c7cf8785e3a00767819346\"',\n",
       "  'Size': 12097,\n",
       "  'StorageClass': 'STANDARD',\n",
       "  'Owner': {'DisplayName': 'laiaddara',\n",
       "   'ID': '709f2485bbc57aa0687e130826e0d8c48d3beaba7e7f08305a5a39db5536f4f3'}},\n",
       " {'Key': 'logs/year=2024/month=02/day=16/gen_logs_s3-1-2024-02-16-12-56-24-5d6ec72b-f34e-495d-9635-1b99392e7df4',\n",
       "  'LastModified': datetime.datetime(2024, 2, 16, 12, 57, 25, tzinfo=tzutc()),\n",
       "  'ETag': '\"2a3efd33c3b286b930d3cecb2b452b1f\"',\n",
       "  'Size': 12114,\n",
       "  'StorageClass': 'STANDARD',\n",
       "  'Owner': {'DisplayName': 'laiaddara',\n",
       "   'ID': '709f2485bbc57aa0687e130826e0d8c48d3beaba7e7f08305a5a39db5536f4f3'}},\n",
       " {'Key': 'logs/year=2024/month=02/day=16/gen_logs_s3-1-2024-02-16-12-57-25-b22faaa6-8fbf-4f5f-88ea-1b643daf555b',\n",
       "  'LastModified': datetime.datetime(2024, 2, 16, 12, 58, 26, tzinfo=tzutc()),\n",
       "  'ETag': '\"6c780d6e09dbbee26a6618eec23feedf\"',\n",
       "  'Size': 12320,\n",
       "  'StorageClass': 'STANDARD',\n",
       "  'Owner': {'DisplayName': 'laiaddara',\n",
       "   'ID': '709f2485bbc57aa0687e130826e0d8c48d3beaba7e7f08305a5a39db5536f4f3'}},\n",
       " {'Key': 'logs/year=2024/month=02/day=16/gen_logs_s3-1-2024-02-16-12-58-26-80ac9ca0-1fe2-446b-b0fc-ad0ba6a991a4',\n",
       "  'LastModified': datetime.datetime(2024, 2, 16, 12, 59, 27, tzinfo=tzutc()),\n",
       "  'ETag': '\"1984f9a873e6a1eae1d85abe947c8802\"',\n",
       "  'Size': 11956,\n",
       "  'StorageClass': 'STANDARD',\n",
       "  'Owner': {'DisplayName': 'laiaddara',\n",
       "   'ID': '709f2485bbc57aa0687e130826e0d8c48d3beaba7e7f08305a5a39db5536f4f3'}}]"
      ]
     },
     "execution_count": 5,
     "metadata": {},
     "output_type": "execute_result"
    }
   ],
   "source": [
    "s3_objects['Contents']"
   ]
  },
  {
   "cell_type": "code",
   "execution_count": 8,
   "id": "cubic-journalist",
   "metadata": {},
   "outputs": [],
   "source": [
    "# Method 1 to get keys collection\n",
    "s3_object_keys = [s3_object['Key'] for s3_object in s3_objects['Contents']] "
   ]
  },
  {
   "cell_type": "code",
   "execution_count": 9,
   "id": "6d705a4b-2aa3-48f1-8092-6acd2410c6ee",
   "metadata": {},
   "outputs": [
    {
     "data": {
      "text/plain": [
       "['logs/year=2024/month=02/day=16/gen_logs_s3-1-2024-02-16-12-51-20-2b9337a1-7e5c-4a5d-84cc-3587b8d40e07',\n",
       " 'logs/year=2024/month=02/day=16/gen_logs_s3-1-2024-02-16-12-53-21-23cefb72-3c41-4dd8-8da0-0597a1b0494d',\n",
       " 'logs/year=2024/month=02/day=16/gen_logs_s3-1-2024-02-16-12-54-22-18f05e40-b7a1-452c-8bf8-d059b0913ef5',\n",
       " 'logs/year=2024/month=02/day=16/gen_logs_s3-1-2024-02-16-12-55-23-d9eae8b4-a812-4f2e-9f5d-a5ff076d3eec',\n",
       " 'logs/year=2024/month=02/day=16/gen_logs_s3-1-2024-02-16-12-56-24-5d6ec72b-f34e-495d-9635-1b99392e7df4',\n",
       " 'logs/year=2024/month=02/day=16/gen_logs_s3-1-2024-02-16-12-57-25-b22faaa6-8fbf-4f5f-88ea-1b643daf555b',\n",
       " 'logs/year=2024/month=02/day=16/gen_logs_s3-1-2024-02-16-12-58-26-80ac9ca0-1fe2-446b-b0fc-ad0ba6a991a4']"
      ]
     },
     "execution_count": 9,
     "metadata": {},
     "output_type": "execute_result"
    }
   ],
   "source": [
    "s3_object_keys"
   ]
  },
  {
   "cell_type": "code",
   "execution_count": 10,
   "id": "public-vatican",
   "metadata": {},
   "outputs": [],
   "source": [
    "# Method 2 to get keys collection\n",
    "s3_object_keys = []\n",
    "\n",
    "for s3_object in s3_objects['Contents']:\n",
    "    s3_object_key = s3_object['Key']\n",
    "    s3_object_keys.append(s3_object_key)"
   ]
  },
  {
   "cell_type": "code",
   "execution_count": 11,
   "id": "vulnerable-somalia",
   "metadata": {},
   "outputs": [
    {
     "data": {
      "text/plain": [
       "['logs/year=2024/month=02/day=16/gen_logs_s3-1-2024-02-16-12-51-20-2b9337a1-7e5c-4a5d-84cc-3587b8d40e07',\n",
       " 'logs/year=2024/month=02/day=16/gen_logs_s3-1-2024-02-16-12-53-21-23cefb72-3c41-4dd8-8da0-0597a1b0494d',\n",
       " 'logs/year=2024/month=02/day=16/gen_logs_s3-1-2024-02-16-12-54-22-18f05e40-b7a1-452c-8bf8-d059b0913ef5']"
      ]
     },
     "execution_count": 11,
     "metadata": {},
     "output_type": "execute_result"
    }
   ],
   "source": [
    "s3_object_keys[:3]"
   ]
  },
  {
   "cell_type": "markdown",
   "id": "9a11971f-efa5-4214-b1ba-64aa35104d07",
   "metadata": {},
   "source": [
    "### 1. Read Single Object Content"
   ]
  },
  {
   "cell_type": "code",
   "execution_count": 12,
   "id": "labeled-moses",
   "metadata": {},
   "outputs": [
    {
     "data": {
      "text/plain": [
       "122"
      ]
     },
     "execution_count": 12,
     "metadata": {},
     "output_type": "execute_result"
    }
   ],
   "source": [
    "import boto3\n",
    "\n",
    "import os\n",
    "os.environ.setdefault('AWS_PROFILE', 'itvgenlogs')\n",
    "\n",
    "s3_client = boto3.client('s3')\n",
    "\n",
    "s3_objects = s3_client.list_objects(\n",
    "    Bucket='itv-genlogs-mana00',\n",
    "    Prefix='logs/year'\n",
    ")\n",
    "\n",
    "s3_object_key = s3_objects['Contents'][0]['Key']\n",
    "s3_object = s3_client.get_object(\n",
    "    Bucket='itv-genlogs-mana00',\n",
    "    Key=s3_object_key\n",
    ")\n",
    "\n",
    "file_contents = s3_object['Body'].read().decode('utf-8')\n",
    "# s3_object['Body'] is of type botocore.response.StreamingBody\n",
    "len(file_contents.splitlines())"
   ]
  },
  {
   "cell_type": "markdown",
   "id": "5e632bef-d1a0-4e2e-bc77-fd92ed88664d",
   "metadata": {},
   "source": [
    "### 2. Read Multiple Object Content"
   ]
  },
  {
   "cell_type": "code",
   "execution_count": 13,
   "id": "accredited-bookmark",
   "metadata": {},
   "outputs": [
    {
     "data": {
      "text/plain": [
       "[1, 2, 3, 3, 4, 5]"
      ]
     },
     "execution_count": 13,
     "metadata": {},
     "output_type": "execute_result"
    }
   ],
   "source": [
    "l1 = [1, 2, 3]\n",
    "l2 = [3, 4, 5]\n",
    "l1 + l2"
   ]
  },
  {
   "cell_type": "code",
   "execution_count": 14,
   "id": "smoking-bradford",
   "metadata": {},
   "outputs": [],
   "source": [
    "data = []\n",
    "for s3_object_key in s3_object_keys:\n",
    "    s3_object_contents = s3_client. \\\n",
    "        get_object(\n",
    "            Bucket='itv-genlogs-mana00',\n",
    "            Key=s3_object_key\n",
    "        )['Body']. \\\n",
    "        read(). \\\n",
    "        decode('utf-8'). \\\n",
    "        splitlines()\n",
    "    data += s3_object_contents"
   ]
  },
  {
   "cell_type": "code",
   "execution_count": 15,
   "id": "international-chapel",
   "metadata": {},
   "outputs": [
    {
     "data": {
      "text/plain": [
       "488"
      ]
     },
     "execution_count": 15,
     "metadata": {},
     "output_type": "execute_result"
    }
   ],
   "source": [
    "len(data)"
   ]
  },
  {
   "cell_type": "code",
   "execution_count": 16,
   "id": "polished-premium",
   "metadata": {},
   "outputs": [
    {
     "data": {
      "text/plain": [
       "['165.220.71.68 - - [16/Feb/2024:12:50:42 -0800] \"GET /department/team%20sports/categories HTTP/1.1\" 200 1702 \"-\" \"Mozilla/5.0 (Macintosh; Intel Mac OS X 10_9_4) AppleWebKit/537.36 (KHTML, like Gecko) Chrome/35.0.1916.153 Safari/537.36\"',\n",
       " '45.171.150.225 - - [16/Feb/2024:12:50:30 -0800] \"GET /department/team%20sports/categories HTTP/1.1\" 200 2100 \"-\" \"Mozilla/5.0 (Macintosh; Intel Mac OS X 10_9_4) AppleWebKit/537.77.4 (KHTML, like Gecko) Version/7.0.5 Safari/537.77.4\"',\n",
       " '115.93.215.91 - - [16/Feb/2024:12:50:25 -0800] \"GET /categories/indoor/outdoor%20games/products HTTP/1.1\" 200 750 \"-\" \"Mozilla/5.0 (Windows NT 6.1; WOW64) AppleWebKit/537.36 (KHTML, like Gecko) Chrome/36.0.1985.125 Safari/537.36\"']"
      ]
     },
     "execution_count": 16,
     "metadata": {},
     "output_type": "execute_result"
    }
   ],
   "source": [
    "data[:3]"
   ]
  },
  {
   "cell_type": "code",
   "execution_count": null,
   "id": "guided-cheese",
   "metadata": {},
   "outputs": [],
   "source": [
    "# You can further process data and store in database or a file"
   ]
  }
 ],
 "metadata": {
  "kernelspec": {
   "display_name": "Python 3 (ipykernel)",
   "language": "python",
   "name": "python3"
  },
  "language_info": {
   "codemirror_mode": {
    "name": "ipython",
    "version": 3
   },
   "file_extension": ".py",
   "mimetype": "text/x-python",
   "name": "python",
   "nbconvert_exporter": "python",
   "pygments_lexer": "ipython3",
   "version": "3.8.10"
  }
 },
 "nbformat": 4,
 "nbformat_minor": 5
}
