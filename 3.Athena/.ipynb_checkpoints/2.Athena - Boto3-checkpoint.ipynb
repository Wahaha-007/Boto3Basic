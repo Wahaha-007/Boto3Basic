{
 "cells": [
  {
   "cell_type": "markdown",
   "id": "0b391573-a77a-4f8d-8c55-dd313d02c1fc",
   "metadata": {},
   "source": [
    "# Section 24 : Athena Boto3"
   ]
  },
  {
   "cell_type": "markdown",
   "id": "ec98dacf-3a71-4352-959d-f823ec1e6556",
   "metadata": {},
   "source": [
    "### 1. Basic Command"
   ]
  },
  {
   "cell_type": "code",
   "execution_count": 1,
   "id": "906475b5-64e9-49b2-8559-5797475a6b0c",
   "metadata": {},
   "outputs": [],
   "source": [
    "import boto3"
   ]
  },
  {
   "cell_type": "code",
   "execution_count": 4,
   "id": "3c5c2ae5-fb7a-4e19-8224-98d5ae02bafd",
   "metadata": {},
   "outputs": [],
   "source": [
    "athena_client = boto3.client('athena', region_name='ap-southeast-1')"
   ]
  },
  {
   "cell_type": "code",
   "execution_count": 10,
   "id": "93b95a0e-6f63-40b6-b37a-c5e3bd34f54e",
   "metadata": {},
   "outputs": [
    {
     "data": {
      "text/plain": [
       "[{'Name': 'primary',\n",
       "  'State': 'ENABLED',\n",
       "  'Description': '',\n",
       "  'CreationTime': datetime.datetime(2024, 2, 11, 21, 10, 38, 595000, tzinfo=tzlocal()),\n",
       "  'EngineVersion': {'SelectedEngineVersion': 'AUTO',\n",
       "   'EffectiveEngineVersion': 'Athena engine version 3'}}]"
      ]
     },
     "execution_count": 10,
     "metadata": {},
     "output_type": "execute_result"
    }
   ],
   "source": [
    "athena_client.list_work_groups()['WorkGroups']"
   ]
  },
  {
   "cell_type": "markdown",
   "id": "9edce292-3814-4890-8d34-0d7faceb1044",
   "metadata": {},
   "source": [
    "### 2. List Databases"
   ]
  },
  {
   "cell_type": "code",
   "execution_count": 14,
   "id": "15288c20-d152-41f8-b22b-d638900550ba",
   "metadata": {},
   "outputs": [],
   "source": [
    "dbs = athena_client.list_databases(\n",
    "    CatalogName=\"AwsDataCatalog\"\n",
    ")['DatabaseList']"
   ]
  },
  {
   "cell_type": "code",
   "execution_count": 15,
   "id": "91d79d90-c660-4854-9f1b-7e4a2c549085",
   "metadata": {},
   "outputs": [
    {
     "data": {
      "text/plain": [
       "['default', 'itvghlandingdb', 'itvghrawdb', 'myretail', 'retail_db']"
      ]
     },
     "execution_count": 15,
     "metadata": {},
     "output_type": "execute_result"
    }
   ],
   "source": [
    "[db['Name'] for db in dbs]"
   ]
  },
  {
   "cell_type": "markdown",
   "id": "3e9ea859-ad13-44ae-a780-20aeb99717ac",
   "metadata": {},
   "source": [
    "### 3. List Tables"
   ]
  },
  {
   "cell_type": "code",
   "execution_count": 17,
   "id": "ab2fadbe-043c-4913-9dbc-d16993bf141f",
   "metadata": {},
   "outputs": [],
   "source": [
    "tables = athena_client.list_table_metadata(\n",
    "    CatalogName='AwsDataCatalog',\n",
    "    DatabaseName='retail_db'\n",
    ")['TableMetadataList']"
   ]
  },
  {
   "cell_type": "code",
   "execution_count": 25,
   "id": "c31b5f08-68da-4601-b6a0-963d3a3020c5",
   "metadata": {
    "scrolled": true
   },
   "outputs": [
    {
     "data": {
      "text/plain": [
       "[{'Name': 'categories',\n",
       "  'CreateTime': datetime.datetime(2024, 2, 11, 22, 43, 2, tzinfo=tzlocal()),\n",
       "  'LastAccessTime': datetime.datetime(2024, 2, 11, 22, 43, 2, tzinfo=tzlocal()),\n",
       "  'TableType': 'EXTERNAL_TABLE',\n",
       "  'Columns': [{'Name': 'category_id', 'Type': 'int'},\n",
       "   {'Name': 'category_department_id', 'Type': 'int'},\n",
       "   {'Name': 'category_name', 'Type': 'string'}],\n",
       "  'PartitionKeys': [],\n",
       "  'Parameters': {'CrawlerSchemaDeserializerVersion': '1.0',\n",
       "   'CrawlerSchemaSerializerVersion': '1.0',\n",
       "   'UPDATED_BY_CRAWLER': 'Retail Crawler',\n",
       "   'averageRecordSize': '76',\n",
       "   'classification': 'json',\n",
       "   'compressionType': 'none',\n",
       "   'inputformat': 'org.apache.hadoop.mapred.TextInputFormat',\n",
       "   'location': 's3://itv-retail-mana00/retail_db_json/categories/',\n",
       "   'objectCount': '1',\n",
       "   'outputformat': 'org.apache.hadoop.hive.ql.io.HiveIgnoreKeyTextOutputFormat',\n",
       "   'recordCount': '58',\n",
       "   'serde.param.paths': 'category_department_id,category_id,category_name',\n",
       "   'serde.serialization.lib': 'org.openx.data.jsonserde.JsonSerDe',\n",
       "   'sizeKey': '4451',\n",
       "   'typeOfData': 'file'}},\n",
       " {'Name': 'customers',\n",
       "  'CreateTime': datetime.datetime(2024, 2, 11, 22, 43, 1, tzinfo=tzlocal()),\n",
       "  'LastAccessTime': datetime.datetime(2024, 2, 11, 22, 43, 1, tzinfo=tzlocal()),\n",
       "  'TableType': 'EXTERNAL_TABLE',\n",
       "  'Columns': [{'Name': 'customer_id', 'Type': 'int'},\n",
       "   {'Name': 'customer_fname', 'Type': 'string'},\n",
       "   {'Name': 'customer_lname', 'Type': 'string'},\n",
       "   {'Name': 'customer_email', 'Type': 'string'},\n",
       "   {'Name': 'customer_password', 'Type': 'string'},\n",
       "   {'Name': 'customer_street', 'Type': 'string'},\n",
       "   {'Name': 'customer_city', 'Type': 'string'},\n",
       "   {'Name': 'customer_state', 'Type': 'string'},\n",
       "   {'Name': 'customer_zipcode', 'Type': 'string'}],\n",
       "  'PartitionKeys': [],\n",
       "  'Parameters': {'CrawlerSchemaDeserializerVersion': '1.0',\n",
       "   'CrawlerSchemaSerializerVersion': '1.0',\n",
       "   'UPDATED_BY_CRAWLER': 'Retail Crawler',\n",
       "   'averageRecordSize': '1048',\n",
       "   'classification': 'json',\n",
       "   'compressionType': 'none',\n",
       "   'inputformat': 'org.apache.hadoop.mapred.TextInputFormat',\n",
       "   'location': 's3://itv-retail-mana00/retail_db_json/customers/',\n",
       "   'objectCount': '1',\n",
       "   'outputformat': 'org.apache.hadoop.hive.ql.io.HiveIgnoreKeyTextOutputFormat',\n",
       "   'recordCount': '2962',\n",
       "   'serde.param.paths': 'customer_city,customer_email,customer_fname,customer_id,customer_lname,customer_password,customer_state,customer_street,customer_zipcode',\n",
       "   'serde.serialization.lib': 'org.openx.data.jsonserde.JsonSerDe',\n",
       "   'sizeKey': '3105168',\n",
       "   'typeOfData': 'file'}},\n",
       " {'Name': 'departments',\n",
       "  'CreateTime': datetime.datetime(2024, 2, 11, 22, 43, 1, tzinfo=tzlocal()),\n",
       "  'LastAccessTime': datetime.datetime(2024, 2, 11, 22, 43, 1, tzinfo=tzlocal()),\n",
       "  'TableType': 'EXTERNAL_TABLE',\n",
       "  'Columns': [{'Name': 'department_id', 'Type': 'int'},\n",
       "   {'Name': 'department_name', 'Type': 'string'}],\n",
       "  'PartitionKeys': [],\n",
       "  'Parameters': {'CrawlerSchemaDeserializerVersion': '1.0',\n",
       "   'CrawlerSchemaSerializerVersion': '1.0',\n",
       "   'UPDATED_BY_CRAWLER': 'Retail Crawler',\n",
       "   'averageRecordSize': '48',\n",
       "   'classification': 'json',\n",
       "   'compressionType': 'none',\n",
       "   'inputformat': 'org.apache.hadoop.mapred.TextInputFormat',\n",
       "   'location': 's3://itv-retail-mana00/retail_db_json/departments/',\n",
       "   'objectCount': '1',\n",
       "   'outputformat': 'org.apache.hadoop.hive.ql.io.HiveIgnoreKeyTextOutputFormat',\n",
       "   'recordCount': '6',\n",
       "   'serde.param.paths': 'department_id,department_name',\n",
       "   'serde.serialization.lib': 'org.openx.data.jsonserde.JsonSerDe',\n",
       "   'sizeKey': '288',\n",
       "   'typeOfData': 'file'}},\n",
       " {'Name': 'order_items',\n",
       "  'CreateTime': datetime.datetime(2024, 2, 11, 22, 43, 1, tzinfo=tzlocal()),\n",
       "  'LastAccessTime': datetime.datetime(2024, 2, 11, 22, 43, 1, tzinfo=tzlocal()),\n",
       "  'TableType': 'EXTERNAL_TABLE',\n",
       "  'Columns': [{'Name': 'order_item_id', 'Type': 'int'},\n",
       "   {'Name': 'order_item_order_id', 'Type': 'int'},\n",
       "   {'Name': 'order_item_product_id', 'Type': 'int'},\n",
       "   {'Name': 'order_item_quantity', 'Type': 'int'},\n",
       "   {'Name': 'order_item_subtotal', 'Type': 'double'},\n",
       "   {'Name': 'order_item_product_price', 'Type': 'double'}],\n",
       "  'PartitionKeys': [],\n",
       "  'Parameters': {'CrawlerSchemaDeserializerVersion': '1.0',\n",
       "   'CrawlerSchemaSerializerVersion': '1.0',\n",
       "   'UPDATED_BY_CRAWLER': 'Retail Crawler',\n",
       "   'averageRecordSize': '1048',\n",
       "   'classification': 'json',\n",
       "   'compressionType': 'none',\n",
       "   'inputformat': 'org.apache.hadoop.mapred.TextInputFormat',\n",
       "   'location': 's3://itv-retail-mana00/retail_db_json/order_items/',\n",
       "   'objectCount': '1',\n",
       "   'outputformat': 'org.apache.hadoop.hive.ql.io.HiveIgnoreKeyTextOutputFormat',\n",
       "   'recordCount': '27343',\n",
       "   'serde.param.paths': 'order_item_id,order_item_order_id,order_item_product_id,order_item_product_price,order_item_quantity,order_item_subtotal',\n",
       "   'serde.serialization.lib': 'org.openx.data.jsonserde.JsonSerDe',\n",
       "   'sizeKey': '28655610',\n",
       "   'typeOfData': 'file'}},\n",
       " {'Name': 'orders',\n",
       "  'CreateTime': datetime.datetime(2024, 2, 11, 22, 43, 1, tzinfo=tzlocal()),\n",
       "  'LastAccessTime': datetime.datetime(2024, 2, 11, 22, 43, 1, tzinfo=tzlocal()),\n",
       "  'TableType': 'EXTERNAL_TABLE',\n",
       "  'Columns': [{'Name': 'order_id', 'Type': 'int'},\n",
       "   {'Name': 'order_date', 'Type': 'string'},\n",
       "   {'Name': 'order_customer_id', 'Type': 'int'},\n",
       "   {'Name': 'order_status', 'Type': 'string'}],\n",
       "  'PartitionKeys': [],\n",
       "  'Parameters': {'CrawlerSchemaDeserializerVersion': '1.0',\n",
       "   'CrawlerSchemaSerializerVersion': '1.0',\n",
       "   'UPDATED_BY_CRAWLER': 'Retail Crawler',\n",
       "   'averageRecordSize': '1048',\n",
       "   'classification': 'json',\n",
       "   'compressionType': 'none',\n",
       "   'inputformat': 'org.apache.hadoop.mapred.TextInputFormat',\n",
       "   'location': 's3://itv-retail-mana00/retail_db_json/orders/',\n",
       "   'objectCount': '1',\n",
       "   'outputformat': 'org.apache.hadoop.hive.ql.io.HiveIgnoreKeyTextOutputFormat',\n",
       "   'recordCount': '7134',\n",
       "   'serde.param.paths': 'order_customer_id,order_date,order_id,order_status',\n",
       "   'serde.serialization.lib': 'org.openx.data.jsonserde.JsonSerDe',\n",
       "   'sizeKey': '7477339',\n",
       "   'typeOfData': 'file'}},\n",
       " {'Name': 'products',\n",
       "  'CreateTime': datetime.datetime(2024, 2, 11, 22, 43, 1, tzinfo=tzlocal()),\n",
       "  'LastAccessTime': datetime.datetime(2024, 2, 11, 22, 43, 1, tzinfo=tzlocal()),\n",
       "  'TableType': 'EXTERNAL_TABLE',\n",
       "  'Columns': [{'Name': 'product_id', 'Type': 'int'},\n",
       "   {'Name': 'product_category_id', 'Type': 'int'},\n",
       "   {'Name': 'product_name', 'Type': 'string'},\n",
       "   {'Name': 'product_description', 'Type': 'string'},\n",
       "   {'Name': 'product_price', 'Type': 'double'},\n",
       "   {'Name': 'product_image', 'Type': 'string'}],\n",
       "  'PartitionKeys': [],\n",
       "  'Parameters': {'CrawlerSchemaDeserializerVersion': '1.0',\n",
       "   'CrawlerSchemaSerializerVersion': '1.0',\n",
       "   'UPDATED_BY_CRAWLER': 'Retail Crawler',\n",
       "   'averageRecordSize': '324',\n",
       "   'classification': 'json',\n",
       "   'compressionType': 'none',\n",
       "   'inputformat': 'org.apache.hadoop.mapred.TextInputFormat',\n",
       "   'location': 's3://itv-retail-mana00/retail_db_json/products/',\n",
       "   'objectCount': '1',\n",
       "   'outputformat': 'org.apache.hadoop.hive.ql.io.HiveIgnoreKeyTextOutputFormat',\n",
       "   'recordCount': '1003',\n",
       "   'serde.param.paths': 'product_category_id,product_description,product_id,product_image,product_name,product_price',\n",
       "   'serde.serialization.lib': 'org.openx.data.jsonserde.JsonSerDe',\n",
       "   'sizeKey': '324978',\n",
       "   'typeOfData': 'file'}}]"
      ]
     },
     "execution_count": 25,
     "metadata": {},
     "output_type": "execute_result"
    }
   ],
   "source": [
    "tables"
   ]
  },
  {
   "cell_type": "code",
   "execution_count": 18,
   "id": "5d8965e4-81ff-4743-b0fe-d1316720a9de",
   "metadata": {},
   "outputs": [
    {
     "data": {
      "text/plain": [
       "['categories', 'customers', 'departments', 'order_items', 'orders', 'products']"
      ]
     },
     "execution_count": 18,
     "metadata": {},
     "output_type": "execute_result"
    }
   ],
   "source": [
    "[table['Name'] for table in tables]"
   ]
  },
  {
   "cell_type": "code",
   "execution_count": 24,
   "id": "ec9394ab-89c4-4724-b440-b05d40bb0ff3",
   "metadata": {},
   "outputs": [
    {
     "data": {
      "text/plain": [
       "['s3://itv-retail-mana00/retail_db_json/categories/',\n",
       " 's3://itv-retail-mana00/retail_db_json/customers/',\n",
       " 's3://itv-retail-mana00/retail_db_json/departments/',\n",
       " 's3://itv-retail-mana00/retail_db_json/order_items/',\n",
       " 's3://itv-retail-mana00/retail_db_json/orders/',\n",
       " 's3://itv-retail-mana00/retail_db_json/products/']"
      ]
     },
     "execution_count": 24,
     "metadata": {},
     "output_type": "execute_result"
    }
   ],
   "source": [
    "[table['Parameters']['location'] for table in tables]"
   ]
  },
  {
   "cell_type": "markdown",
   "id": "c52b90d9-1ac0-4e01-acb3-190106c8ccea",
   "metadata": {},
   "source": [
    "### 4. Get Single Table Data"
   ]
  },
  {
   "cell_type": "code",
   "execution_count": 22,
   "id": "61287028-f101-4465-8e49-74e9bd978fe5",
   "metadata": {},
   "outputs": [],
   "source": [
    "table_metadata = athena_client.get_table_metadata(\n",
    "    CatalogName='AwsDataCatalog',\n",
    "    DatabaseName='retail_db',\n",
    "    TableName='orders'\n",
    ")['TableMetadata']"
   ]
  },
  {
   "cell_type": "code",
   "execution_count": 23,
   "id": "421683af-b945-420a-99df-2aeb95d7d50a",
   "metadata": {},
   "outputs": [
    {
     "data": {
      "text/plain": [
       "{'Name': 'orders',\n",
       " 'CreateTime': datetime.datetime(2024, 2, 11, 22, 43, 1, tzinfo=tzlocal()),\n",
       " 'LastAccessTime': datetime.datetime(2024, 2, 11, 22, 43, 1, tzinfo=tzlocal()),\n",
       " 'TableType': 'EXTERNAL_TABLE',\n",
       " 'Columns': [{'Name': 'order_id', 'Type': 'int'},\n",
       "  {'Name': 'order_date', 'Type': 'string'},\n",
       "  {'Name': 'order_customer_id', 'Type': 'int'},\n",
       "  {'Name': 'order_status', 'Type': 'string'}],\n",
       " 'PartitionKeys': [],\n",
       " 'Parameters': {'CrawlerSchemaDeserializerVersion': '1.0',\n",
       "  'CrawlerSchemaSerializerVersion': '1.0',\n",
       "  'UPDATED_BY_CRAWLER': 'Retail Crawler',\n",
       "  'averageRecordSize': '1048',\n",
       "  'classification': 'json',\n",
       "  'compressionType': 'none',\n",
       "  'inputformat': 'org.apache.hadoop.mapred.TextInputFormat',\n",
       "  'location': 's3://itv-retail-mana00/retail_db_json/orders/',\n",
       "  'objectCount': '1',\n",
       "  'outputformat': 'org.apache.hadoop.hive.ql.io.HiveIgnoreKeyTextOutputFormat',\n",
       "  'recordCount': '7134',\n",
       "  'serde.param.paths': 'order_customer_id,order_date,order_id,order_status',\n",
       "  'serde.serialization.lib': 'org.openx.data.jsonserde.JsonSerDe',\n",
       "  'sizeKey': '7477339',\n",
       "  'typeOfData': 'file'}}"
      ]
     },
     "execution_count": 23,
     "metadata": {},
     "output_type": "execute_result"
    }
   ],
   "source": [
    "table_metadata"
   ]
  },
  {
   "cell_type": "markdown",
   "id": "c3b2c27d-561b-424a-85b6-927deff0c828",
   "metadata": {},
   "source": [
    "### 5. Run Query"
   ]
  },
  {
   "cell_type": "code",
   "execution_count": 26,
   "id": "2fcf88de-3a3c-47f9-aab7-b4c65e4e3ad7",
   "metadata": {},
   "outputs": [
    {
     "data": {
      "text/plain": [
       "{'WorkGroups': [{'Name': 'primary',\n",
       "   'State': 'ENABLED',\n",
       "   'Description': '',\n",
       "   'CreationTime': datetime.datetime(2024, 2, 11, 21, 10, 38, 595000, tzinfo=tzlocal()),\n",
       "   'EngineVersion': {'SelectedEngineVersion': 'AUTO',\n",
       "    'EffectiveEngineVersion': 'Athena engine version 3'}}],\n",
       " 'ResponseMetadata': {'RequestId': '501a41a1-01f4-4f9b-b084-ff75a5fab80f',\n",
       "  'HTTPStatusCode': 200,\n",
       "  'HTTPHeaders': {'date': 'Sun, 18 Feb 2024 18:25:46 GMT',\n",
       "   'content-type': 'application/x-amz-json-1.1',\n",
       "   'content-length': '222',\n",
       "   'connection': 'keep-alive',\n",
       "   'x-amzn-requestid': '501a41a1-01f4-4f9b-b084-ff75a5fab80f'},\n",
       "  'RetryAttempts': 0}}"
      ]
     },
     "execution_count": 26,
     "metadata": {},
     "output_type": "execute_result"
    }
   ],
   "source": [
    "athena_client.list_work_groups()"
   ]
  },
  {
   "cell_type": "code",
   "execution_count": 28,
   "id": "6c71afc4-635b-47f3-b6a9-1df4e18c0c85",
   "metadata": {},
   "outputs": [
    {
     "data": {
      "text/plain": [
       "{'WorkGroup': {'Name': 'primary',\n",
       "  'State': 'ENABLED',\n",
       "  'Configuration': {'ResultConfiguration': {'OutputLocation': 's3://mm000-retail/AthenaCLI/'},\n",
       "   'EnforceWorkGroupConfiguration': False,\n",
       "   'PublishCloudWatchMetricsEnabled': False,\n",
       "   'RequesterPaysEnabled': False,\n",
       "   'EngineVersion': {'SelectedEngineVersion': 'AUTO',\n",
       "    'EffectiveEngineVersion': 'Athena engine version 3'},\n",
       "   'EnableMinimumEncryptionConfiguration': False},\n",
       "  'CreationTime': datetime.datetime(2024, 2, 11, 21, 10, 38, 595000, tzinfo=tzlocal())},\n",
       " 'ResponseMetadata': {'RequestId': '2a018aaf-b987-4f7b-a9f7-259ce4a84619',\n",
       "  'HTTPStatusCode': 200,\n",
       "  'HTTPHeaders': {'date': 'Sun, 18 Feb 2024 18:26:14 GMT',\n",
       "   'content-type': 'application/x-amz-json-1.1',\n",
       "   'content-length': '476',\n",
       "   'connection': 'keep-alive',\n",
       "   'x-amzn-requestid': '2a018aaf-b987-4f7b-a9f7-259ce4a84619'},\n",
       "  'RetryAttempts': 0}}"
      ]
     },
     "execution_count": 28,
     "metadata": {},
     "output_type": "execute_result"
    }
   ],
   "source": [
    "athena_client.get_work_group(WorkGroup='primary')"
   ]
  },
  {
   "cell_type": "code",
   "execution_count": 29,
   "id": "8cfe80ca-40a1-4e39-ab42-b8ad552b82e4",
   "metadata": {},
   "outputs": [],
   "source": [
    "query_execution = athena_client.start_query_execution(\n",
    "    QueryString='SELECT count(*) FROM myretail.orders'\n",
    ")"
   ]
  },
  {
   "cell_type": "code",
   "execution_count": 30,
   "id": "c0bd58eb-4e7a-4b0c-a49f-3a4ebf8cabe3",
   "metadata": {},
   "outputs": [
    {
     "data": {
      "text/plain": [
       "{'QueryExecutionId': 'b4463e3e-5ee9-4a51-97a5-a90ab387da0e',\n",
       " 'ResponseMetadata': {'RequestId': '3e338149-3b00-4e36-b0a4-aba0a7760a0c',\n",
       "  'HTTPStatusCode': 200,\n",
       "  'HTTPHeaders': {'date': 'Sun, 18 Feb 2024 18:26:35 GMT',\n",
       "   'content-type': 'application/x-amz-json-1.1',\n",
       "   'content-length': '59',\n",
       "   'connection': 'keep-alive',\n",
       "   'x-amzn-requestid': '3e338149-3b00-4e36-b0a4-aba0a7760a0c'},\n",
       "  'RetryAttempts': 0}}"
      ]
     },
     "execution_count": 30,
     "metadata": {},
     "output_type": "execute_result"
    }
   ],
   "source": [
    "query_execution"
   ]
  },
  {
   "cell_type": "code",
   "execution_count": 31,
   "id": "0e6c3d04-4661-4572-8514-df524a2047fd",
   "metadata": {},
   "outputs": [
    {
     "data": {
      "text/plain": [
       "{'QueryExecution': {'QueryExecutionId': 'b4463e3e-5ee9-4a51-97a5-a90ab387da0e',\n",
       "  'Query': 'SELECT count(*) FROM myretail.orders',\n",
       "  'StatementType': 'DML',\n",
       "  'ResultConfiguration': {'OutputLocation': 's3://mm000-retail/AthenaCLI/b4463e3e-5ee9-4a51-97a5-a90ab387da0e.csv'},\n",
       "  'ResultReuseConfiguration': {'ResultReuseByAgeConfiguration': {'Enabled': False}},\n",
       "  'QueryExecutionContext': {},\n",
       "  'Status': {'State': 'SUCCEEDED',\n",
       "   'SubmissionDateTime': datetime.datetime(2024, 2, 19, 1, 26, 35, 918000, tzinfo=tzlocal()),\n",
       "   'CompletionDateTime': datetime.datetime(2024, 2, 19, 1, 26, 36, 490000, tzinfo=tzlocal())},\n",
       "  'Statistics': {'EngineExecutionTimeInMillis': 378,\n",
       "   'DataScannedInBytes': 0,\n",
       "   'TotalExecutionTimeInMillis': 572,\n",
       "   'QueryQueueTimeInMillis': 110,\n",
       "   'ServicePreProcessingTimeInMillis': 61,\n",
       "   'QueryPlanningTimeInMillis': 58,\n",
       "   'ServiceProcessingTimeInMillis': 23,\n",
       "   'ResultReuseInformation': {'ReusedPreviousResult': False}},\n",
       "  'WorkGroup': 'primary',\n",
       "  'EngineVersion': {'SelectedEngineVersion': 'AUTO',\n",
       "   'EffectiveEngineVersion': 'Athena engine version 3'},\n",
       "  'SubstatementType': 'SELECT'},\n",
       " 'ResponseMetadata': {'RequestId': '2ca78d42-9c3d-41ce-9098-f7f95f3ed3c3',\n",
       "  'HTTPStatusCode': 200,\n",
       "  'HTTPHeaders': {'date': 'Sun, 18 Feb 2024 18:27:49 GMT',\n",
       "   'content-type': 'application/x-amz-json-1.1',\n",
       "   'content-length': '1592',\n",
       "   'connection': 'keep-alive',\n",
       "   'x-amzn-requestid': '2ca78d42-9c3d-41ce-9098-f7f95f3ed3c3'},\n",
       "  'RetryAttempts': 0}}"
      ]
     },
     "execution_count": 31,
     "metadata": {},
     "output_type": "execute_result"
    }
   ],
   "source": [
    "athena_client.get_query_execution(\n",
    "    QueryExecutionId=query_execution['QueryExecutionId']\n",
    ")"
   ]
  },
  {
   "cell_type": "code",
   "execution_count": 32,
   "id": "994656c2-7884-441e-bca8-8f53948a4ca2",
   "metadata": {},
   "outputs": [
    {
     "name": "stdout",
     "output_type": "stream",
     "text": [
      "download: s3://mm000-retail/AthenaCLI/b4463e3e-5ee9-4a51-97a5-a90ab387da0e.csv to ./b4463e3e-5ee9-4a51-97a5-a90ab387da0e.csv\n"
     ]
    }
   ],
   "source": [
    "!aws s3 cp s3://mm000-retail/AthenaCLI/b4463e3e-5ee9-4a51-97a5-a90ab387da0e.csv ."
   ]
  },
  {
   "cell_type": "markdown",
   "id": "8c5a0a8e-63c0-45ee-8325-7d96cb9cd980",
   "metadata": {},
   "source": [
    "### 6. Run Query and Get Result Directly"
   ]
  },
  {
   "cell_type": "markdown",
   "id": "04b586f5-04f9-4acc-8b35-8792ee4d07c0",
   "metadata": {},
   "source": [
    "Need to start from the beginning with the table with some data"
   ]
  },
  {
   "cell_type": "code",
   "execution_count": 34,
   "id": "7407d295-ea38-4e62-b11d-f21e8fe40395",
   "metadata": {},
   "outputs": [
    {
     "data": {
      "text/plain": [
       "{'Name': 'orders',\n",
       " 'CreateTime': datetime.datetime(2024, 2, 18, 0, 49, 50, tzinfo=tzlocal()),\n",
       " 'LastAccessTime': datetime.datetime(1970, 1, 1, 7, 0, tzinfo=tzlocal()),\n",
       " 'TableType': 'EXTERNAL_TABLE',\n",
       " 'Columns': [{'Name': 'order_id',\n",
       "   'Type': 'int',\n",
       "   'Comment': 'from deserializer'},\n",
       "  {'Name': 'order_date', 'Type': 'string', 'Comment': 'from deserializer'},\n",
       "  {'Name': 'order_customer_id', 'Type': 'int', 'Comment': 'from deserializer'},\n",
       "  {'Name': 'order_status', 'Type': 'string', 'Comment': 'from deserializer'}],\n",
       " 'PartitionKeys': [],\n",
       " 'Parameters': {'EXTERNAL': 'TRUE',\n",
       "  'inputformat': 'org.apache.hadoop.hive.ql.io.parquet.MapredParquetInputFormat',\n",
       "  'location': 's3://itv-retail-mana00/myretail/orders',\n",
       "  'outputformat': 'org.apache.hadoop.hive.ql.io.parquet.MapredParquetOutputFormat',\n",
       "  'serde.param.serialization.format': '1',\n",
       "  'serde.serialization.lib': 'org.apache.hadoop.hive.ql.io.parquet.serde.ParquetHiveSerDe',\n",
       "  'transient_lastDdlTime': '1708192190'}}"
      ]
     },
     "execution_count": 34,
     "metadata": {},
     "output_type": "execute_result"
    }
   ],
   "source": [
    "athena_client.get_table_metadata(\n",
    "    CatalogName='AwsDataCatalog',\n",
    "    DatabaseName='myretail',\n",
    "    TableName='orders'\n",
    ")['TableMetadata']"
   ]
  },
  {
   "cell_type": "code",
   "execution_count": 35,
   "id": "d09cce8a-8ce3-481b-a938-634e86fe0872",
   "metadata": {},
   "outputs": [],
   "source": [
    "query_str = \"\"\"\n",
    "    SELECT order_status, count(*) AS order_count\n",
    "    FROM myretail.orders\n",
    "    GROUP BY order_status\n",
    "\"\"\""
   ]
  },
  {
   "cell_type": "code",
   "execution_count": 38,
   "id": "b8ec125c-37de-43d7-b178-a5911b5d3b2c",
   "metadata": {},
   "outputs": [],
   "source": [
    "# Run and Got ID\n",
    "query_execution = athena_client.start_query_execution(\n",
    "    QueryString=query_str\n",
    ")"
   ]
  },
  {
   "cell_type": "code",
   "execution_count": 39,
   "id": "41cb878f-076f-4f94-878c-51b941b65240",
   "metadata": {
    "scrolled": true
   },
   "outputs": [
    {
     "data": {
      "text/plain": [
       "{'QueryExecution': {'QueryExecutionId': '9dfc18d0-a5bc-4f4e-8546-26dcd11409ef',\n",
       "  'Query': 'SELECT order_status, count(*) AS order_count\\n    FROM myretail.orders\\n    GROUP BY order_status',\n",
       "  'StatementType': 'DML',\n",
       "  'ResultConfiguration': {'OutputLocation': 's3://mm000-retail/AthenaCLI/9dfc18d0-a5bc-4f4e-8546-26dcd11409ef.csv'},\n",
       "  'ResultReuseConfiguration': {'ResultReuseByAgeConfiguration': {'Enabled': False}},\n",
       "  'QueryExecutionContext': {},\n",
       "  'Status': {'State': 'SUCCEEDED',\n",
       "   'SubmissionDateTime': datetime.datetime(2024, 2, 19, 1, 56, 21, 977000, tzinfo=tzlocal()),\n",
       "   'CompletionDateTime': datetime.datetime(2024, 2, 19, 1, 56, 22, 512000, tzinfo=tzlocal())},\n",
       "  'Statistics': {'EngineExecutionTimeInMillis': 401,\n",
       "   'DataScannedInBytes': 24580,\n",
       "   'TotalExecutionTimeInMillis': 535,\n",
       "   'QueryQueueTimeInMillis': 64,\n",
       "   'ServicePreProcessingTimeInMillis': 47,\n",
       "   'QueryPlanningTimeInMillis': 58,\n",
       "   'ServiceProcessingTimeInMillis': 23,\n",
       "   'ResultReuseInformation': {'ReusedPreviousResult': False}},\n",
       "  'WorkGroup': 'primary',\n",
       "  'EngineVersion': {'SelectedEngineVersion': 'AUTO',\n",
       "   'EffectiveEngineVersion': 'Athena engine version 3'},\n",
       "  'SubstatementType': 'SELECT'},\n",
       " 'ResponseMetadata': {'RequestId': 'a835ced8-7fc1-408e-84b0-fc4ef77e889d',\n",
       "  'HTTPStatusCode': 200,\n",
       "  'HTTPHeaders': {'date': 'Sun, 18 Feb 2024 18:56:23 GMT',\n",
       "   'content-type': 'application/x-amz-json-1.1',\n",
       "   'content-length': '1729',\n",
       "   'connection': 'keep-alive',\n",
       "   'x-amzn-requestid': 'a835ced8-7fc1-408e-84b0-fc4ef77e889d'},\n",
       "  'RetryAttempts': 0}}"
      ]
     },
     "execution_count": 39,
     "metadata": {},
     "output_type": "execute_result"
    }
   ],
   "source": [
    "# Exchange ID -> File location\n",
    "athena_client.get_query_execution(\n",
    "    QueryExecutionId=query_execution['QueryExecutionId']\n",
    ")"
   ]
  },
  {
   "cell_type": "code",
   "execution_count": 40,
   "id": "bb624c9d-c33b-4997-ae0c-3d4a29ce68ac",
   "metadata": {},
   "outputs": [],
   "source": [
    "# Exchange ID -> Dataset\n",
    "query_results = athena_client.get_query_results(\n",
    "    QueryExecutionId=query_execution['QueryExecutionId']\n",
    ")"
   ]
  },
  {
   "cell_type": "code",
   "execution_count": 41,
   "id": "4f7b868d-007d-4f2c-8489-ff24765b3d08",
   "metadata": {},
   "outputs": [
    {
     "data": {
      "text/plain": [
       "{'UpdateCount': 0,\n",
       " 'ResultSet': {'Rows': [{'Data': [{'VarCharValue': 'order_status'},\n",
       "     {'VarCharValue': 'order_count'}]},\n",
       "   {'Data': [{'VarCharValue': 'CLOSED'}, {'VarCharValue': '7556'}]},\n",
       "   {'Data': [{'VarCharValue': 'PENDING_PAYMENT'}, {'VarCharValue': '15030'}]},\n",
       "   {'Data': [{'VarCharValue': 'ON_HOLD'}, {'VarCharValue': '3798'}]},\n",
       "   {'Data': [{'VarCharValue': 'COMPLETE'}, {'VarCharValue': '22899'}]},\n",
       "   {'Data': [{'VarCharValue': 'PENDING'}, {'VarCharValue': '7610'}]},\n",
       "   {'Data': [{'VarCharValue': 'CANCELED'}, {'VarCharValue': '1428'}]},\n",
       "   {'Data': [{'VarCharValue': 'PROCESSING'}, {'VarCharValue': '8275'}]},\n",
       "   {'Data': [{'VarCharValue': 'PAYMENT_REVIEW'}, {'VarCharValue': '729'}]},\n",
       "   {'Data': [{'VarCharValue': 'SUSPECTED_FRAUD'}, {'VarCharValue': '1558'}]}],\n",
       "  'ResultSetMetadata': {'ColumnInfo': [{'CatalogName': 'hive',\n",
       "     'SchemaName': '',\n",
       "     'TableName': '',\n",
       "     'Name': 'order_status',\n",
       "     'Label': 'order_status',\n",
       "     'Type': 'varchar',\n",
       "     'Precision': 2147483647,\n",
       "     'Scale': 0,\n",
       "     'Nullable': 'UNKNOWN',\n",
       "     'CaseSensitive': True},\n",
       "    {'CatalogName': 'hive',\n",
       "     'SchemaName': '',\n",
       "     'TableName': '',\n",
       "     'Name': 'order_count',\n",
       "     'Label': 'order_count',\n",
       "     'Type': 'bigint',\n",
       "     'Precision': 19,\n",
       "     'Scale': 0,\n",
       "     'Nullable': 'UNKNOWN',\n",
       "     'CaseSensitive': False}]}},\n",
       " 'ResponseMetadata': {'RequestId': '2e21dd39-bb3b-42a0-98e8-e0762065ac22',\n",
       "  'HTTPStatusCode': 200,\n",
       "  'HTTPHeaders': {'date': 'Sun, 18 Feb 2024 18:56:25 GMT',\n",
       "   'content-type': 'application/x-amz-json-1.1',\n",
       "   'content-length': '1142',\n",
       "   'connection': 'keep-alive',\n",
       "   'x-amzn-requestid': '2e21dd39-bb3b-42a0-98e8-e0762065ac22'},\n",
       "  'RetryAttempts': 0}}"
      ]
     },
     "execution_count": 41,
     "metadata": {},
     "output_type": "execute_result"
    }
   ],
   "source": [
    "query_results"
   ]
  },
  {
   "cell_type": "code",
   "execution_count": 43,
   "id": "2d9539ce-7ada-4dbf-8df9-aabb5b72889f",
   "metadata": {},
   "outputs": [
    {
     "data": {
      "text/plain": [
       "[{'Data': [{'VarCharValue': 'order_status'}, {'VarCharValue': 'order_count'}]},\n",
       " {'Data': [{'VarCharValue': 'CLOSED'}, {'VarCharValue': '7556'}]},\n",
       " {'Data': [{'VarCharValue': 'PENDING_PAYMENT'}, {'VarCharValue': '15030'}]},\n",
       " {'Data': [{'VarCharValue': 'ON_HOLD'}, {'VarCharValue': '3798'}]},\n",
       " {'Data': [{'VarCharValue': 'COMPLETE'}, {'VarCharValue': '22899'}]},\n",
       " {'Data': [{'VarCharValue': 'PENDING'}, {'VarCharValue': '7610'}]},\n",
       " {'Data': [{'VarCharValue': 'CANCELED'}, {'VarCharValue': '1428'}]},\n",
       " {'Data': [{'VarCharValue': 'PROCESSING'}, {'VarCharValue': '8275'}]},\n",
       " {'Data': [{'VarCharValue': 'PAYMENT_REVIEW'}, {'VarCharValue': '729'}]},\n",
       " {'Data': [{'VarCharValue': 'SUSPECTED_FRAUD'}, {'VarCharValue': '1558'}]}]"
      ]
     },
     "execution_count": 43,
     "metadata": {},
     "output_type": "execute_result"
    }
   ],
   "source": [
    "query_results['ResultSet']['Rows']"
   ]
  },
  {
   "cell_type": "code",
   "execution_count": 44,
   "id": "c9f6064a-8858-491b-9be5-1640a23d0dd6",
   "metadata": {},
   "outputs": [],
   "source": [
    "results = query_results['ResultSet']['Rows']"
   ]
  },
  {
   "cell_type": "code",
   "execution_count": 46,
   "id": "8b5622d8-1102-4c21-a533-eef70cec04b0",
   "metadata": {},
   "outputs": [
    {
     "data": {
      "text/plain": [
       "[('order_status', 'order_count'),\n",
       " ('CLOSED', '7556'),\n",
       " ('PENDING_PAYMENT', '15030'),\n",
       " ('ON_HOLD', '3798'),\n",
       " ('COMPLETE', '22899'),\n",
       " ('PENDING', '7610'),\n",
       " ('CANCELED', '1428'),\n",
       " ('PROCESSING', '8275'),\n",
       " ('PAYMENT_REVIEW', '729'),\n",
       " ('SUSPECTED_FRAUD', '1558')]"
      ]
     },
     "execution_count": 46,
     "metadata": {},
     "output_type": "execute_result"
    }
   ],
   "source": [
    "[(result['Data'][0]['VarCharValue'],result['Data'][1]['VarCharValue']) for result in results ]"
   ]
  }
 ],
 "metadata": {
  "kernelspec": {
   "display_name": "Python 3 (ipykernel)",
   "language": "python",
   "name": "python3"
  },
  "language_info": {
   "codemirror_mode": {
    "name": "ipython",
    "version": 3
   },
   "file_extension": ".py",
   "mimetype": "text/x-python",
   "name": "python",
   "nbconvert_exporter": "python",
   "pygments_lexer": "ipython3",
   "version": "3.8.10"
  }
 },
 "nbformat": 4,
 "nbformat_minor": 5
}
