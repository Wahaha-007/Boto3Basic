{
 "cells": [
  {
   "cell_type": "markdown",
   "id": "cdb294f8-d18b-4fc7-a6d6-07b9e536db76",
   "metadata": {},
   "source": [
    "# Athena CLI : Basic"
   ]
  },
  {
   "cell_type": "markdown",
   "id": "1d8e19ba-dd1e-4073-a5ed-6749620300ae",
   "metadata": {},
   "source": [
    "### 1. Basic Command"
   ]
  },
  {
   "cell_type": "code",
   "execution_count": 10,
   "id": "91c9680f-81f7-4194-a24f-aaee08343528",
   "metadata": {
    "scrolled": true
   },
   "outputs": [
    {
     "name": "stdout",
     "output_type": "stream",
     "text": [
      "ATHENA()                                                              ATHENA()\n",
      "\n",
      "\n",
      "\n",
      "NAME\n",
      "       athena -\n",
      "\n",
      "DESCRIPTION\n",
      "       Amazon  Athena  is an interactive query service that lets you use stan-\n",
      "       dard SQL to analyze data directly in Amazon S3. You can point Athena at\n",
      "       your  data  in Amazon S3 and run ad-hoc queries and get results in sec-\n",
      "       onds. Athena is serverless, so there is no infrastructure to set up  or\n",
      "       manage.  You  pay only for the queries you run. Athena scales automati-\n",
      "       callyexecuting queries in parallelso results are fast, even with  large\n",
      "       datasets  and complex queries. For more information, see What is Amazon\n",
      "       Athena in the Amazon Athena User Guide .\n",
      "\n",
      "       If you connect to Athena using the JDBC driver, use  version  1.1.0  of\n",
      "       the driver or later with the Amazon Athena API. Earlier version drivers\n",
      "       do not support the API.  For  more  information  and  to  download  the\n",
      "       driver, see Accessing Amazon Athena with JDBC .\n",
      "\n",
      "AVAILABLE COMMANDS\n",
      "       o batch-get-named-query\n",
      "\n",
      "       o batch-get-prepared-statement\n",
      "\n",
      "       o batch-get-query-execution\n",
      "\n",
      "       o cancel-capacity-reservation\n",
      "\n",
      "       o create-capacity-reservation\n",
      "\n",
      "       o create-data-catalog\n",
      "\n",
      "       o create-named-query\n",
      "\n",
      "       o create-notebook\n",
      "\n",
      "       o create-prepared-statement\n",
      "\n",
      "       o create-presigned-notebook-url\n",
      "\n",
      "       o create-work-group\n",
      "\n",
      "       o delete-capacity-reservation\n",
      "\n",
      "       o delete-data-catalog\n",
      "\n",
      "       o delete-named-query\n",
      "\n",
      "       o delete-notebook\n",
      "\n",
      "       o delete-prepared-statement\n",
      "\n",
      "       o delete-work-group\n",
      "\n",
      "       o export-notebook\n",
      "\n",
      "       o get-calculation-execution\n",
      "\n",
      "       o get-calculation-execution-code\n",
      "\n",
      "       o get-calculation-execution-status\n",
      "\n",
      "       o get-capacity-assignment-configuration\n",
      "\n",
      "       o get-capacity-reservation\n",
      "\n",
      "       o get-data-catalog\n",
      "\n",
      "       o get-database\n",
      "\n",
      "       o get-named-query\n",
      "\n",
      "       o get-notebook-metadata\n",
      "\n",
      "       o get-prepared-statement\n",
      "\n",
      "       o get-query-execution\n",
      "\n",
      "       o get-query-results\n",
      "\n",
      "       o get-query-runtime-statistics\n",
      "\n",
      "       o get-session\n",
      "\n",
      "       o get-session-status\n",
      "\n",
      "       o get-table-metadata\n",
      "\n",
      "       o get-work-group\n",
      "\n",
      "       o help\n",
      "\n",
      "       o import-notebook\n",
      "\n",
      "       o list-application-dpu-sizes\n",
      "\n",
      "       o list-calculation-executions\n",
      "\n",
      "       o list-capacity-reservations\n",
      "\n",
      "       o list-data-catalogs\n",
      "\n",
      "       o list-databases\n",
      "\n",
      "       o list-engine-versions\n",
      "\n",
      "       o list-executors\n",
      "\n",
      "       o list-named-queries\n",
      "\n",
      "       o list-notebook-metadata\n",
      "\n",
      "       o list-notebook-sessions\n",
      "\n",
      "       o list-prepared-statements\n",
      "\n",
      "       o list-query-executions\n",
      "\n",
      "       o list-sessions\n",
      "\n",
      "       o list-table-metadata\n",
      "\n",
      "       o list-tags-for-resource\n",
      "\n",
      "       o list-work-groups\n",
      "\n",
      "       o put-capacity-assignment-configuration\n",
      "\n",
      "       o start-calculation-execution\n",
      "\n",
      "       o start-query-execution\n",
      "\n",
      "       o start-session\n",
      "\n",
      "       o stop-calculation-execution\n",
      "\n",
      "       o stop-query-execution\n",
      "\n",
      "       o tag-resource\n",
      "\n",
      "       o terminate-session\n",
      "\n",
      "       o untag-resource\n",
      "\n",
      "       o update-capacity-reservation\n",
      "\n",
      "       o update-data-catalog\n",
      "\n",
      "       o update-named-query\n",
      "\n",
      "       o update-notebook\n",
      "\n",
      "       o update-notebook-metadata\n",
      "\n",
      "       o update-prepared-statement\n",
      "\n",
      "       o update-work-group\n",
      "\n",
      "\n",
      "\n",
      "                                                                      ATHENA()\n"
     ]
    }
   ],
   "source": [
    "!aws athena help"
   ]
  },
  {
   "cell_type": "code",
   "execution_count": 11,
   "id": "342a2f9d-ce2c-4773-8fca-5283d95f3dad",
   "metadata": {},
   "outputs": [
    {
     "name": "stdout",
     "output_type": "stream",
     "text": [
      "{\n",
      "    \"DatabaseList\": [\n",
      "        {\n",
      "            \"Name\": \"default\",\n",
      "            \"Description\": \"Default Hive database\"\n",
      "        },\n",
      "        {\n",
      "            \"Name\": \"itvghlandingdb\"\n",
      "        },\n",
      "        {\n",
      "            \"Name\": \"itvghrawdb\"\n",
      "        },\n",
      "        {\n",
      "            \"Name\": \"myretail\"\n",
      "        },\n",
      "        {\n",
      "            \"Name\": \"retail_db\"\n",
      "        }\n",
      "    ]\n",
      "}\n"
     ]
    }
   ],
   "source": [
    "!aws athena list-databases --catalog-name AwsDataCatalog"
   ]
  },
  {
   "cell_type": "markdown",
   "id": "78eafe0c-ebbf-46dd-8893-7684349148c3",
   "metadata": {},
   "source": [
    "### 2. Workgroup"
   ]
  },
  {
   "cell_type": "markdown",
   "id": "8847647a-7494-4611-8a73-cc7f3d3d774b",
   "metadata": {},
   "source": [
    "* Query result location : Must set before using CLI\n",
    "* Per query data usage control : = limit / query, if exceeded then cancel all query"
   ]
  },
  {
   "cell_type": "code",
   "execution_count": 12,
   "id": "20e0f35b-5954-4383-b0d2-ca431a2a577b",
   "metadata": {},
   "outputs": [
    {
     "name": "stdout",
     "output_type": "stream",
     "text": [
      "{\n",
      "    \"WorkGroups\": [\n",
      "        {\n",
      "            \"Name\": \"primary\",\n",
      "            \"State\": \"ENABLED\",\n",
      "            \"Description\": \"\",\n",
      "            \"CreationTime\": \"2024-02-11T21:10:38.595000+07:00\",\n",
      "            \"EngineVersion\": {\n",
      "                \"SelectedEngineVersion\": \"AUTO\",\n",
      "                \"EffectiveEngineVersion\": \"Athena engine version 3\"\n",
      "            }\n",
      "        }\n",
      "    ]\n",
      "}\n"
     ]
    }
   ],
   "source": [
    "!aws athena list-work-groups"
   ]
  },
  {
   "cell_type": "code",
   "execution_count": 13,
   "id": "19a49e4c-cbff-4c9b-a205-221917b57ced",
   "metadata": {
    "scrolled": true
   },
   "outputs": [
    {
     "name": "stdout",
     "output_type": "stream",
     "text": [
      "{\n",
      "    \"WorkGroup\": {\n",
      "        \"Name\": \"primary\",\n",
      "        \"State\": \"ENABLED\",\n",
      "        \"Configuration\": {\n",
      "            \"ResultConfiguration\": {},\n",
      "            \"EnforceWorkGroupConfiguration\": false,\n",
      "            \"PublishCloudWatchMetricsEnabled\": false,\n",
      "            \"RequesterPaysEnabled\": false,\n",
      "            \"EngineVersion\": {\n",
      "                \"SelectedEngineVersion\": \"AUTO\",\n",
      "                \"EffectiveEngineVersion\": \"Athena engine version 3\"\n",
      "            },\n",
      "            \"EnableMinimumEncryptionConfiguration\": false\n",
      "        },\n",
      "        \"CreationTime\": \"2024-02-11T21:10:38.595000+07:00\"\n",
      "    }\n",
      "}\n"
     ]
    }
   ],
   "source": [
    "!aws athena get-work-group --work-group primary"
   ]
  },
  {
   "cell_type": "markdown",
   "id": "62fc614d-9911-47d0-bb74-deebfd544856",
   "metadata": {},
   "source": [
    "In AWS Set Wrokgroup storage location before using any query command"
   ]
  },
  {
   "cell_type": "markdown",
   "id": "2b10b51c-2dec-4043-aa0d-f87e816991a1",
   "metadata": {},
   "source": [
    "### 3. Run Query"
   ]
  },
  {
   "cell_type": "code",
   "execution_count": 17,
   "id": "cc3a0dad-d360-4980-a9c1-73cef5cc4311",
   "metadata": {
    "scrolled": true
   },
   "outputs": [
    {
     "name": "stdout",
     "output_type": "stream",
     "text": [
      "{\n",
      "    \"QueryExecutionId\": \"20db41b8-6fb5-4dc0-9a55-b93b9a005bce\"\n",
      "}\n"
     ]
    }
   ],
   "source": [
    "!aws athena start-query-execution --query-string \"SELECT count(1) from myretail.orders GROUP BY order_status\""
   ]
  },
  {
   "cell_type": "code",
   "execution_count": 18,
   "id": "b2338feb-3f92-4bf2-a77b-ae48aaeed509",
   "metadata": {
    "scrolled": true
   },
   "outputs": [
    {
     "name": "stdout",
     "output_type": "stream",
     "text": [
      "{\n",
      "    \"QueryExecution\": {\n",
      "        \"QueryExecutionId\": \"20db41b8-6fb5-4dc0-9a55-b93b9a005bce\",\n",
      "        \"Query\": \"SELECT count(1) from myretail.orders GROUP BY order_status\",\n",
      "        \"StatementType\": \"DML\",\n",
      "        \"ResultConfiguration\": {\n",
      "            \"OutputLocation\": \"s3://mm000-retail/AthenaCLI/20db41b8-6fb5-4dc0-9a55-b93b9a005bce.csv\"\n",
      "        },\n",
      "        \"ResultReuseConfiguration\": {\n",
      "            \"ResultReuseByAgeConfiguration\": {\n",
      "                \"Enabled\": false\n",
      "            }\n",
      "        },\n",
      "        \"QueryExecutionContext\": {},\n",
      "        \"Status\": {\n",
      "            \"State\": \"SUCCEEDED\",\n",
      "            \"SubmissionDateTime\": \"2024-02-18T21:08:15.551000+07:00\",\n",
      "            \"CompletionDateTime\": \"2024-02-18T21:08:16.219000+07:00\"\n",
      "        },\n",
      "        \"Statistics\": {\n",
      "            \"EngineExecutionTimeInMillis\": 522,\n",
      "            \"DataScannedInBytes\": 24580,\n",
      "            \"TotalExecutionTimeInMillis\": 668,\n",
      "            \"QueryQueueTimeInMillis\": 57,\n",
      "            \"ServicePreProcessingTimeInMillis\": 55,\n",
      "            \"QueryPlanningTimeInMillis\": 71,\n",
      "            \"ServiceProcessingTimeInMillis\": 34,\n",
      "            \"ResultReuseInformation\": {\n",
      "                \"ReusedPreviousResult\": false\n",
      "            }\n",
      "        },\n",
      "        \"WorkGroup\": \"primary\",\n",
      "        \"EngineVersion\": {\n",
      "            \"SelectedEngineVersion\": \"AUTO\",\n",
      "            \"EffectiveEngineVersion\": \"Athena engine version 3\"\n",
      "        },\n",
      "        \"SubstatementType\": \"SELECT\"\n",
      "    }\n",
      "}\n"
     ]
    }
   ],
   "source": [
    "!aws athena get-query-execution --query-execution-id 20db41b8-6fb5-4dc0-9a55-b93b9a005bce"
   ]
  },
  {
   "cell_type": "code",
   "execution_count": 19,
   "id": "87e00ff5-2bc1-460f-a5d3-086db99dd18f",
   "metadata": {},
   "outputs": [
    {
     "name": "stdout",
     "output_type": "stream",
     "text": [
      "download: s3://mm000-retail/AthenaCLI/20db41b8-6fb5-4dc0-9a55-b93b9a005bce.csv to ./20db41b8-6fb5-4dc0-9a55-b93b9a005bce.csv\n"
     ]
    }
   ],
   "source": [
    "!aws s3 cp s3://mm000-retail/AthenaCLI/20db41b8-6fb5-4dc0-9a55-b93b9a005bce.csv ."
   ]
  },
  {
   "cell_type": "code",
   "execution_count": 23,
   "id": "959aa50a-7662-4e79-9d7b-6c9507a18acd",
   "metadata": {},
   "outputs": [
    {
     "name": "stdout",
     "output_type": "stream",
     "text": [
      "\"_col0\"\n",
      "\"7556\"\n",
      "\"15030\"\n",
      "\"3798\"\n",
      "\"22899\"\n",
      "\"7610\"\n",
      "\"1428\"\n",
      "\"8275\"\n",
      "\"729\"\n",
      "\"1558\"\n"
     ]
    }
   ],
   "source": [
    "!cat 20db41b8-6fb5-4dc0-9a55-b93b9a005bce.csv"
   ]
  },
  {
   "cell_type": "markdown",
   "id": "199ecad8-d6d6-48aa-a56c-8ae6ceaa8cb9",
   "metadata": {},
   "source": [
    "### 4. Run Query with Custom Target S3 Location"
   ]
  },
  {
   "cell_type": "raw",
   "id": "0529317d-235d-4744-8919-079322275002",
   "metadata": {},
   "source": [
    "!aws athena start-query-execution \\\n",
    "    --query-string \"SELECT count(*) FROM myretail.orders\" \\\n",
    "    --result-configuration OutputLocation=s3://itv-retail-mana00/myretail/order_count_awscli "
   ]
  },
  {
   "cell_type": "code",
   "execution_count": 25,
   "id": "dd3a9787-5205-42bb-bccb-6e5c4f522ba5",
   "metadata": {
    "scrolled": true
   },
   "outputs": [
    {
     "name": "stdout",
     "output_type": "stream",
     "text": [
      "{\n",
      "    \"QueryExecution\": {\n",
      "        \"QueryExecutionId\": \"238634a7-8919-48b5-98b6-563065a8c747\",\n",
      "        \"Query\": \"SELECT count(*) FROM myretail.orders\",\n",
      "        \"StatementType\": \"DML\",\n",
      "        \"ResultConfiguration\": {\n",
      "            \"OutputLocation\": \"s3://itv-retail-mana00/myretail/order_count_awscli/238634a7-8919-48b5-98b6-563065a8c747.csv\"\n",
      "        },\n",
      "        \"ResultReuseConfiguration\": {\n",
      "            \"ResultReuseByAgeConfiguration\": {\n",
      "                \"Enabled\": false\n",
      "            }\n",
      "        },\n",
      "        \"QueryExecutionContext\": {},\n",
      "        \"Status\": {\n",
      "            \"State\": \"SUCCEEDED\",\n",
      "            \"SubmissionDateTime\": \"2024-02-18T23:02:21.921000+07:00\",\n",
      "            \"CompletionDateTime\": \"2024-02-18T23:02:22.473000+07:00\"\n",
      "        },\n",
      "        \"Statistics\": {\n",
      "            \"EngineExecutionTimeInMillis\": 367,\n",
      "            \"DataScannedInBytes\": 0,\n",
      "            \"TotalExecutionTimeInMillis\": 552,\n",
      "            \"QueryQueueTimeInMillis\": 107,\n",
      "            \"ServicePreProcessingTimeInMillis\": 49,\n",
      "            \"QueryPlanningTimeInMillis\": 56,\n",
      "            \"ServiceProcessingTimeInMillis\": 29,\n",
      "            \"ResultReuseInformation\": {\n",
      "                \"ReusedPreviousResult\": false\n",
      "            }\n",
      "        },\n",
      "        \"WorkGroup\": \"primary\",\n",
      "        \"EngineVersion\": {\n",
      "            \"SelectedEngineVersion\": \"AUTO\",\n",
      "            \"EffectiveEngineVersion\": \"Athena engine version 3\"\n",
      "        },\n",
      "        \"SubstatementType\": \"SELECT\"\n",
      "    }\n",
      "}\n"
     ]
    }
   ],
   "source": [
    "!aws athena get-query-execution --query-execution-id 20db41b8-6fb5-4dc0-9a55-b93b9a005bce"
   ]
  },
  {
   "cell_type": "code",
   "execution_count": 26,
   "id": "2530f1c5-abf6-4bc4-b989-30f8105f5031",
   "metadata": {},
   "outputs": [
    {
     "name": "stdout",
     "output_type": "stream",
     "text": [
      "download: s3://itv-retail-mana00/myretail/order_count_awscli/238634a7-8919-48b5-98b6-563065a8c747.csv to ./238634a7-8919-48b5-98b6-563065a8c747.csv\n"
     ]
    }
   ],
   "source": [
    "!aws s3 cp s3://itv-retail-mana00/myretail/order_count_awscli/238634a7-8919-48b5-98b6-563065a8c747.csv ."
   ]
  },
  {
   "cell_type": "markdown",
   "id": "47e9ca42-01b6-43d7-b4d7-160b03c0a26d",
   "metadata": {},
   "source": [
    "### 5. Run Delete Query"
   ]
  },
  {
   "cell_type": "code",
   "execution_count": 27,
   "id": "a44d5c8d-81d2-476c-b33c-7185aadfa419",
   "metadata": {},
   "outputs": [
    {
     "name": "stdout",
     "output_type": "stream",
     "text": [
      "{\n",
      "    \"QueryExecutionId\": \"f5de965a-95d1-4976-aeb7-72487747779e\"\n",
      "}\n"
     ]
    }
   ],
   "source": [
    "!aws athena start-query-execution \\\n",
    "    --query-string \"DROP TABLE myretail.order_items\""
   ]
  },
  {
   "cell_type": "code",
   "execution_count": 28,
   "id": "10553300-d278-4672-9c45-a022ae8729f0",
   "metadata": {
    "scrolled": true
   },
   "outputs": [
    {
     "name": "stdout",
     "output_type": "stream",
     "text": [
      "{\n",
      "    \"QueryExecution\": {\n",
      "        \"QueryExecutionId\": \"f5de965a-95d1-4976-aeb7-72487747779e\",\n",
      "        \"Query\": \"DROP TABLE myretail.order_items\",\n",
      "        \"StatementType\": \"DDL\",\n",
      "        \"ResultConfiguration\": {\n",
      "            \"OutputLocation\": \"s3://mm000-retail/AthenaCLI/f5de965a-95d1-4976-aeb7-72487747779e.txt\"\n",
      "        },\n",
      "        \"ResultReuseConfiguration\": {\n",
      "            \"ResultReuseByAgeConfiguration\": {\n",
      "                \"Enabled\": false\n",
      "            }\n",
      "        },\n",
      "        \"QueryExecutionContext\": {},\n",
      "        \"Status\": {\n",
      "            \"State\": \"SUCCEEDED\",\n",
      "            \"SubmissionDateTime\": \"2024-02-18T23:19:02.587000+07:00\",\n",
      "            \"CompletionDateTime\": \"2024-02-18T23:19:03.254000+07:00\"\n",
      "        },\n",
      "        \"Statistics\": {\n",
      "            \"EngineExecutionTimeInMillis\": 459,\n",
      "            \"DataScannedInBytes\": 0,\n",
      "            \"TotalExecutionTimeInMillis\": 667,\n",
      "            \"QueryQueueTimeInMillis\": 169,\n",
      "            \"ServicePreProcessingTimeInMillis\": 18,\n",
      "            \"ServiceProcessingTimeInMillis\": 21,\n",
      "            \"ResultReuseInformation\": {\n",
      "                \"ReusedPreviousResult\": false\n",
      "            }\n",
      "        },\n",
      "        \"WorkGroup\": \"primary\",\n",
      "        \"EngineVersion\": {\n",
      "            \"SelectedEngineVersion\": \"AUTO\",\n",
      "            \"EffectiveEngineVersion\": \"Athena engine version 3\"\n",
      "        },\n",
      "        \"SubstatementType\": \"DROP_TABLE\"\n",
      "    }\n",
      "}\n"
     ]
    }
   ],
   "source": [
    "!aws athena get-query-execution \\\n",
    "    --query-execution-id f5de965a-95d1-4976-aeb7-72487747779e"
   ]
  },
  {
   "cell_type": "code",
   "execution_count": 29,
   "id": "dc5a0793-af9f-4818-9081-094e85c2b37d",
   "metadata": {},
   "outputs": [
    {
     "name": "stdout",
     "output_type": "stream",
     "text": [
      "delete: s3://itv-retail-mana00/myretail/order_items/20240217_182658_00050_48tzd_78956ba8-1dd0-49c5-bafd-b07877f474cd.gz\n"
     ]
    }
   ],
   "source": [
    "!aws s3 rm s3://itv-retail-mana00/myretail/order_items/ --recursive"
   ]
  },
  {
   "cell_type": "code",
   "execution_count": 31,
   "id": "0a55cc77-36a6-428e-960b-84f2992384d5",
   "metadata": {},
   "outputs": [
    {
     "name": "stdout",
     "output_type": "stream",
     "text": [
      "                           PRE order_count_awscli/\n",
      "                           PRE orders/\n",
      "                           PRE orders_part/\n"
     ]
    }
   ],
   "source": [
    "!aws s3 ls s3://itv-retail-mana00/myretail/"
   ]
  },
  {
   "cell_type": "markdown",
   "id": "fb568eb3-5033-4fc7-b05e-a924c6bb18e2",
   "metadata": {},
   "source": [
    "### 6. Run CTAS Query"
   ]
  },
  {
   "cell_type": "code",
   "execution_count": 34,
   "id": "325d2b25-cbbb-4646-9ae3-4b20bfce4469",
   "metadata": {},
   "outputs": [
    {
     "name": "stdout",
     "output_type": "stream",
     "text": [
      "{\n",
      "    \"QueryExecutionId\": \"894aadc8-8ff0-4ab1-b5ad-798baf1e5d6a\"\n",
      "}\n"
     ]
    }
   ],
   "source": [
    "!aws athena start-query-execution \\\n",
    "    --query-string \"CREATE TABLE myretail.order_items \\\n",
    "        WITH ( \\\n",
    "            format = 'TEXTFILE', \\\n",
    "            external_location = 's3://itv-retail-mana00/myretail/order_items/', \\\n",
    "            field_delimiter = ',' \\\n",
    "        ) \\\n",
    "        AS \\\n",
    "        SELECT * FROM retail_db.order_items\" "
   ]
  },
  {
   "cell_type": "code",
   "execution_count": 35,
   "id": "31bc5475-0246-4702-9483-c4025582f1ac",
   "metadata": {
    "scrolled": true
   },
   "outputs": [
    {
     "name": "stdout",
     "output_type": "stream",
     "text": [
      "{\n",
      "    \"QueryExecution\": {\n",
      "        \"QueryExecutionId\": \"894aadc8-8ff0-4ab1-b5ad-798baf1e5d6a\",\n",
      "        \"Query\": \"CREATE TABLE myretail.order_items          WITH (              format = 'TEXTFILE',              external_location = 's3://itv-retail-mana00/myretail/order_items/',              field_delimiter = ','          )          AS          SELECT * FROM retail_db.order_items\",\n",
      "        \"StatementType\": \"DDL\",\n",
      "        \"ResultConfiguration\": {\n",
      "            \"OutputLocation\": \"s3://mm000-retail/AthenaCLI/tables/894aadc8-8ff0-4ab1-b5ad-798baf1e5d6a\"\n",
      "        },\n",
      "        \"ResultReuseConfiguration\": {\n",
      "            \"ResultReuseByAgeConfiguration\": {\n",
      "                \"Enabled\": false\n",
      "            }\n",
      "        },\n",
      "        \"QueryExecutionContext\": {},\n",
      "        \"Status\": {\n",
      "            \"State\": \"SUCCEEDED\",\n",
      "            \"SubmissionDateTime\": \"2024-02-18T23:32:07.671000+07:00\",\n",
      "            \"CompletionDateTime\": \"2024-02-18T23:32:09.907000+07:00\"\n",
      "        },\n",
      "        \"Statistics\": {\n",
      "            \"EngineExecutionTimeInMillis\": 2108,\n",
      "            \"DataScannedInBytes\": 28655610,\n",
      "            \"DataManifestLocation\": \"s3://mm000-retail/AthenaCLI/tables/894aadc8-8ff0-4ab1-b5ad-798baf1e5d6a-manifest.csv\",\n",
      "            \"TotalExecutionTimeInMillis\": 2236,\n",
      "            \"QueryQueueTimeInMillis\": 52,\n",
      "            \"ServicePreProcessingTimeInMillis\": 54,\n",
      "            \"QueryPlanningTimeInMillis\": 115,\n",
      "            \"ServiceProcessingTimeInMillis\": 22,\n",
      "            \"ResultReuseInformation\": {\n",
      "                \"ReusedPreviousResult\": false\n",
      "            }\n",
      "        },\n",
      "        \"WorkGroup\": \"primary\",\n",
      "        \"EngineVersion\": {\n",
      "            \"SelectedEngineVersion\": \"AUTO\",\n",
      "            \"EffectiveEngineVersion\": \"Athena engine version 3\"\n",
      "        },\n",
      "        \"SubstatementType\": \"CREATE_TABLE_AS_SELECT\"\n",
      "    }\n",
      "}\n"
     ]
    }
   ],
   "source": [
    "!aws athena get-query-execution \\\n",
    "    --query-execution-id 894aadc8-8ff0-4ab1-b5ad-798baf1e5d6a"
   ]
  },
  {
   "cell_type": "code",
   "execution_count": null,
   "id": "1e0a42c9-3c89-40db-bf19-3d9d38c157a4",
   "metadata": {},
   "outputs": [],
   "source": []
  }
 ],
 "metadata": {
  "kernelspec": {
   "display_name": "Python 3 (ipykernel)",
   "language": "python",
   "name": "python3"
  },
  "language_info": {
   "codemirror_mode": {
    "name": "ipython",
    "version": 3
   },
   "file_extension": ".py",
   "mimetype": "text/x-python",
   "name": "python",
   "nbconvert_exporter": "python",
   "pygments_lexer": "ipython3",
   "version": "3.8.10"
  }
 },
 "nbformat": 4,
 "nbformat_minor": 5
}
