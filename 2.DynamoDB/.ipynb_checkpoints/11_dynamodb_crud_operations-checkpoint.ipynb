{
 "cells": [
  {
   "cell_type": "markdown",
   "metadata": {},
   "source": [
    "## Dynamodb CRUD Operations\n",
    "\n",
    "Let us understand how we can perform basic CRUD operations against Dynamodb table.\n",
    "* Create table by name employees.\n",
    "* Insert few records.\n",
    "* Get one of the record and update.\n",
    "* Delete the record and then delete the table."
   ]
  },
  {
   "cell_type": "code",
   "execution_count": 1,
   "metadata": {},
   "outputs": [],
   "source": [
    "import boto3"
   ]
  },
  {
   "cell_type": "code",
   "execution_count": 2,
   "metadata": {},
   "outputs": [],
   "source": [
    "import os"
   ]
  },
  {
   "cell_type": "code",
   "execution_count": 3,
   "metadata": {},
   "outputs": [
    {
     "data": {
      "text/plain": [
       "'itvgithub'"
      ]
     },
     "execution_count": 3,
     "metadata": {},
     "output_type": "execute_result"
    }
   ],
   "source": [
    "os.environ.setdefault('AWS_PROFILE', 'itvgithub')"
   ]
  },
  {
   "cell_type": "code",
   "execution_count": 4,
   "metadata": {},
   "outputs": [],
   "source": [
    "# os.environ.setdefault('AWS_DEFAULT_REGION', 'us-east-1')"
   ]
  },
  {
   "cell_type": "markdown",
   "metadata": {},
   "source": [
    "### 1. Create the Table"
   ]
  },
  {
   "cell_type": "code",
   "execution_count": 5,
   "metadata": {},
   "outputs": [],
   "source": [
    "dynamodb = boto3.resource('dynamodb', region_name=\"ap-southeast-1\")"
   ]
  },
  {
   "cell_type": "code",
   "execution_count": 8,
   "metadata": {},
   "outputs": [
    {
     "name": "stdout",
     "output_type": "stream",
     "text": [
      "Table \"employees\" created successfully.\n"
     ]
    }
   ],
   "source": [
    "table_name = 'employees'\n",
    "\n",
    "table = dynamodb.create_table(\n",
    "      TableName=table_name,\n",
    "      KeySchema=[\n",
    "          {\n",
    "              'AttributeName': 'eid',\n",
    "              'KeyType': 'HASH'\n",
    "          },\n",
    "      ],\n",
    "      AttributeDefinitions=[\n",
    "          {\n",
    "              'AttributeName': 'eid',\n",
    "              'AttributeType': 'N'              \n",
    "          },\n",
    "      ],\n",
    "      BillingMode='PAY_PER_REQUEST'\n",
    "  )\n",
    "\n",
    "# Wait for the table to be created\n",
    "table.meta.client.get_waiter('table_exists').wait(TableName=table_name)\n",
    "\n",
    "print(f'Table \"{table_name}\" created successfully.')"
   ]
  },
  {
   "cell_type": "code",
   "execution_count": 9,
   "metadata": {},
   "outputs": [],
   "source": [
    "table = dynamodb.Table('employees')"
   ]
  },
  {
   "cell_type": "markdown",
   "metadata": {},
   "source": [
    "### 2. Insert new record"
   ]
  },
  {
   "cell_type": "code",
   "execution_count": 10,
   "metadata": {},
   "outputs": [],
   "source": [
    "from decimal import Decimal"
   ]
  },
  {
   "cell_type": "code",
   "execution_count": 11,
   "metadata": {},
   "outputs": [],
   "source": [
    "emp1 = {\n",
    "    'eid': 1,\n",
    "    'fn': 'Scott',\n",
    "    'ln': 'Tiger',\n",
    "    'sal': Decimal('1000.0'),\n",
    "    'pn': [1234567890, 234567891],\n",
    "    'a': {\n",
    "        'a1': '700 ABCD BLVD',\n",
    "        'c': 'Round Rock',\n",
    "        's': 'TX',\n",
    "        'pc': 78665\n",
    "    }\n",
    "}"
   ]
  },
  {
   "cell_type": "code",
   "execution_count": 12,
   "metadata": {},
   "outputs": [
    {
     "data": {
      "text/plain": [
       "{'ResponseMetadata': {'RequestId': 'L2507UT9TQKIDGTA6BCM8PHOMFVV4KQNSO5AEMVJF66Q9ASUAAJG',\n",
       "  'HTTPStatusCode': 200,\n",
       "  'HTTPHeaders': {'server': 'Server',\n",
       "   'date': 'Sat, 17 Feb 2024 11:21:27 GMT',\n",
       "   'content-type': 'application/x-amz-json-1.0',\n",
       "   'content-length': '2',\n",
       "   'connection': 'keep-alive',\n",
       "   'x-amzn-requestid': 'L2507UT9TQKIDGTA6BCM8PHOMFVV4KQNSO5AEMVJF66Q9ASUAAJG',\n",
       "   'x-amz-crc32': '2745614147'},\n",
       "  'RetryAttempts': 0}}"
      ]
     },
     "execution_count": 12,
     "metadata": {},
     "output_type": "execute_result"
    }
   ],
   "source": [
    "table.put_item(Item=emp1)"
   ]
  },
  {
   "cell_type": "code",
   "execution_count": 13,
   "metadata": {},
   "outputs": [],
   "source": [
    "emp2 = {\n",
    "    'eid': 2,\n",
    "    'fn': 'Mark',\n",
    "    'ln': 'Harris',\n",
    "    'sal': Decimal('2000.0'),\n",
    "    'pn': [3456789012],\n",
    "    'a': {\n",
    "        'a1': '1234 XYZ BLVD',\n",
    "        'c': 'Irving',\n",
    "        's': 'TX',\n",
    "        'pc': 75038\n",
    "    }\n",
    "}"
   ]
  },
  {
   "cell_type": "code",
   "execution_count": 14,
   "metadata": {},
   "outputs": [
    {
     "data": {
      "text/plain": [
       "{'ResponseMetadata': {'RequestId': 'MQMJV32HKONSKIVM52DOG88BF7VV4KQNSO5AEMVJF66Q9ASUAAJG',\n",
       "  'HTTPStatusCode': 200,\n",
       "  'HTTPHeaders': {'server': 'Server',\n",
       "   'date': 'Sat, 17 Feb 2024 11:22:41 GMT',\n",
       "   'content-type': 'application/x-amz-json-1.0',\n",
       "   'content-length': '2',\n",
       "   'connection': 'keep-alive',\n",
       "   'x-amzn-requestid': 'MQMJV32HKONSKIVM52DOG88BF7VV4KQNSO5AEMVJF66Q9ASUAAJG',\n",
       "   'x-amz-crc32': '2745614147'},\n",
       "  'RetryAttempts': 0}}"
      ]
     },
     "execution_count": 14,
     "metadata": {},
     "output_type": "execute_result"
    }
   ],
   "source": [
    "table.put_item(Item=emp2)"
   ]
  },
  {
   "cell_type": "markdown",
   "metadata": {},
   "source": [
    "### 3. Read from record"
   ]
  },
  {
   "cell_type": "code",
   "execution_count": 15,
   "metadata": {},
   "outputs": [
    {
     "data": {
      "text/plain": [
       "{'Item': {'a': {'a1': '700 ABCD BLVD',\n",
       "   'c': 'Round Rock',\n",
       "   's': 'TX',\n",
       "   'pc': Decimal('78665')},\n",
       "  'ln': 'Tiger',\n",
       "  'fn': 'Scott',\n",
       "  'eid': Decimal('1'),\n",
       "  'pn': [Decimal('1234567890'), Decimal('234567891')],\n",
       "  'sal': Decimal('1000')},\n",
       " 'ResponseMetadata': {'RequestId': 'OUPQ3NK17GCSJK4C6VSK9K2J6BVV4KQNSO5AEMVJF66Q9ASUAAJG',\n",
       "  'HTTPStatusCode': 200,\n",
       "  'HTTPHeaders': {'server': 'Server',\n",
       "   'date': 'Sat, 17 Feb 2024 11:23:38 GMT',\n",
       "   'content-type': 'application/x-amz-json-1.0',\n",
       "   'content-length': '229',\n",
       "   'connection': 'keep-alive',\n",
       "   'x-amzn-requestid': 'OUPQ3NK17GCSJK4C6VSK9K2J6BVV4KQNSO5AEMVJF66Q9ASUAAJG',\n",
       "   'x-amz-crc32': '17450472'},\n",
       "  'RetryAttempts': 0}}"
      ]
     },
     "execution_count": 15,
     "metadata": {},
     "output_type": "execute_result"
    }
   ],
   "source": [
    "table.get_item(Key={'eid': 1})"
   ]
  },
  {
   "cell_type": "code",
   "execution_count": 18,
   "metadata": {},
   "outputs": [
    {
     "data": {
      "text/plain": [
       "{'a': {'a1': '700 ABCD BLVD',\n",
       "  'c': 'Round Rock',\n",
       "  's': 'TX',\n",
       "  'pc': Decimal('78665')},\n",
       " 'ln': 'Tiger',\n",
       " 'fn': 'Scott',\n",
       " 'eid': Decimal('1'),\n",
       " 'pn': [Decimal('1234567890'), Decimal('234567891')],\n",
       " 'sal': Decimal('1000')}"
      ]
     },
     "execution_count": 18,
     "metadata": {},
     "output_type": "execute_result"
    }
   ],
   "source": [
    "table.get_item(Key={'eid': 1})['Item']   # ==> 'get_item' will give more than just the item, to really get item, need ['Item'] at the end"
   ]
  },
  {
   "cell_type": "code",
   "execution_count": 19,
   "metadata": {},
   "outputs": [
    {
     "data": {
      "text/plain": [
       "{'a1': '700 ABCD BLVD', 'c': 'Round Rock', 's': 'TX', 'pc': Decimal('78665')}"
      ]
     },
     "execution_count": 19,
     "metadata": {},
     "output_type": "execute_result"
    }
   ],
   "source": [
    "table.get_item(Key={'eid': 1})['Item']['a']"
   ]
  },
  {
   "cell_type": "code",
   "execution_count": 20,
   "metadata": {},
   "outputs": [
    {
     "data": {
      "text/plain": [
       "Decimal('1000')"
      ]
     },
     "execution_count": 20,
     "metadata": {},
     "output_type": "execute_result"
    }
   ],
   "source": [
    "table.get_item(Key={'eid': 1})['Item']['sal']"
   ]
  },
  {
   "cell_type": "markdown",
   "metadata": {},
   "source": [
    "### 4. Update record"
   ]
  },
  {
   "cell_type": "code",
   "execution_count": 23,
   "metadata": {},
   "outputs": [],
   "source": [
    "item = table.get_item(Key={'eid': 1})['Item']"
   ]
  },
  {
   "cell_type": "code",
   "execution_count": 24,
   "metadata": {},
   "outputs": [
    {
     "data": {
      "text/plain": [
       "{'a': {'a1': '700 ABCD BLVD',\n",
       "  'c': 'Round Rock',\n",
       "  's': 'TX',\n",
       "  'pc': Decimal('78665')},\n",
       " 'ln': 'Tiger',\n",
       " 'fn': 'Scott',\n",
       " 'eid': Decimal('1'),\n",
       " 'pn': [Decimal('1234567890'), Decimal('234567891')],\n",
       " 'sal': Decimal('1000')}"
      ]
     },
     "execution_count": 24,
     "metadata": {},
     "output_type": "execute_result"
    }
   ],
   "source": [
    "item"
   ]
  },
  {
   "cell_type": "code",
   "execution_count": 25,
   "metadata": {},
   "outputs": [],
   "source": [
    "item['sal'] = Decimal('3500.0')"
   ]
  },
  {
   "cell_type": "code",
   "execution_count": 26,
   "metadata": {},
   "outputs": [
    {
     "data": {
      "text/plain": [
       "{'ResponseMetadata': {'RequestId': 'B2U8MGV07LT87405OVK8VL9HBBVV4KQNSO5AEMVJF66Q9ASUAAJG',\n",
       "  'HTTPStatusCode': 200,\n",
       "  'HTTPHeaders': {'server': 'Server',\n",
       "   'date': 'Sat, 17 Feb 2024 11:27:56 GMT',\n",
       "   'content-type': 'application/x-amz-json-1.0',\n",
       "   'content-length': '2',\n",
       "   'connection': 'keep-alive',\n",
       "   'x-amzn-requestid': 'B2U8MGV07LT87405OVK8VL9HBBVV4KQNSO5AEMVJF66Q9ASUAAJG',\n",
       "   'x-amz-crc32': '2745614147'},\n",
       "  'RetryAttempts': 0}}"
      ]
     },
     "execution_count": 26,
     "metadata": {},
     "output_type": "execute_result"
    }
   ],
   "source": [
    "table.put_item(Item=item)"
   ]
  },
  {
   "cell_type": "code",
   "execution_count": 27,
   "metadata": {},
   "outputs": [
    {
     "data": {
      "text/plain": [
       "{'a': {'a1': '700 ABCD BLVD',\n",
       "  'c': 'Round Rock',\n",
       "  's': 'TX',\n",
       "  'pc': Decimal('78665')},\n",
       " 'ln': 'Tiger',\n",
       " 'fn': 'Scott',\n",
       " 'eid': Decimal('1'),\n",
       " 'pn': [Decimal('1234567890'), Decimal('234567891')],\n",
       " 'sal': Decimal('3500')}"
      ]
     },
     "execution_count": 27,
     "metadata": {},
     "output_type": "execute_result"
    }
   ],
   "source": [
    "table.get_item(Key={'eid': 1})['Item']"
   ]
  },
  {
   "cell_type": "code",
   "execution_count": 28,
   "metadata": {},
   "outputs": [
    {
     "data": {
      "text/plain": [
       "{'a': {'a1': '1234 XYZ BLVD',\n",
       "  'c': 'Irving',\n",
       "  's': 'TX',\n",
       "  'pc': Decimal('75038')},\n",
       " 'ln': 'Harris',\n",
       " 'fn': 'Mark',\n",
       " 'eid': Decimal('2'),\n",
       " 'pn': [Decimal('3456789012')],\n",
       " 'sal': Decimal('2000')}"
      ]
     },
     "execution_count": 28,
     "metadata": {},
     "output_type": "execute_result"
    }
   ],
   "source": [
    "table.get_item(Key={'eid': 2})['Item']"
   ]
  },
  {
   "cell_type": "markdown",
   "metadata": {},
   "source": [
    "### 5. Other command : Scan = get all record"
   ]
  },
  {
   "cell_type": "code",
   "execution_count": 29,
   "metadata": {},
   "outputs": [
    {
     "data": {
      "text/plain": [
       "{'Items': [{'a': {'a1': '1234 XYZ BLVD',\n",
       "    'c': 'Irving',\n",
       "    's': 'TX',\n",
       "    'pc': Decimal('75038')},\n",
       "   'ln': 'Harris',\n",
       "   'fn': 'Mark',\n",
       "   'eid': Decimal('2'),\n",
       "   'pn': [Decimal('3456789012')],\n",
       "   'sal': Decimal('2000')},\n",
       "  {'a': {'a1': '700 ABCD BLVD',\n",
       "    'c': 'Round Rock',\n",
       "    's': 'TX',\n",
       "    'pc': Decimal('78665')},\n",
       "   'ln': 'Tiger',\n",
       "   'fn': 'Scott',\n",
       "   'eid': Decimal('1'),\n",
       "   'pn': [Decimal('1234567890'), Decimal('234567891')],\n",
       "   'sal': Decimal('3500')}],\n",
       " 'Count': 2,\n",
       " 'ScannedCount': 2,\n",
       " 'ResponseMetadata': {'RequestId': '8HCSE1FRTI6U6AVUBUV3FCRG43VV4KQNSO5AEMVJF66Q9ASUAAJG',\n",
       "  'HTTPStatusCode': 200,\n",
       "  'HTTPHeaders': {'server': 'Server',\n",
       "   'date': 'Sat, 17 Feb 2024 11:33:38 GMT',\n",
       "   'content-type': 'application/x-amz-json-1.0',\n",
       "   'content-length': '458',\n",
       "   'connection': 'keep-alive',\n",
       "   'x-amzn-requestid': '8HCSE1FRTI6U6AVUBUV3FCRG43VV4KQNSO5AEMVJF66Q9ASUAAJG',\n",
       "   'x-amz-crc32': '2464695510'},\n",
       "  'RetryAttempts': 0}}"
      ]
     },
     "execution_count": 29,
     "metadata": {},
     "output_type": "execute_result"
    }
   ],
   "source": [
    "table.scan()"
   ]
  },
  {
   "cell_type": "code",
   "execution_count": 30,
   "metadata": {},
   "outputs": [],
   "source": [
    "items = table.scan()['Items']   # This is also like get_item"
   ]
  },
  {
   "cell_type": "code",
   "execution_count": 31,
   "metadata": {},
   "outputs": [
    {
     "name": "stdout",
     "output_type": "stream",
     "text": [
      "Salary of 2 is 2000\n",
      "Salary of 1 is 3500\n"
     ]
    }
   ],
   "source": [
    "for item in items:\n",
    "    print(f'Salary of {item[\"eid\"]} is {item[\"sal\"]}')"
   ]
  },
  {
   "cell_type": "markdown",
   "metadata": {},
   "source": [
    "### 6. Delete item"
   ]
  },
  {
   "cell_type": "code",
   "execution_count": 32,
   "metadata": {},
   "outputs": [
    {
     "data": {
      "text/plain": [
       "{'ResponseMetadata': {'RequestId': 'V02HP2BPARITSP7PVB3V5TV2EFVV4KQNSO5AEMVJF66Q9ASUAAJG',\n",
       "  'HTTPStatusCode': 200,\n",
       "  'HTTPHeaders': {'server': 'Server',\n",
       "   'date': 'Sat, 17 Feb 2024 11:36:40 GMT',\n",
       "   'content-type': 'application/x-amz-json-1.0',\n",
       "   'content-length': '2',\n",
       "   'connection': 'keep-alive',\n",
       "   'x-amzn-requestid': 'V02HP2BPARITSP7PVB3V5TV2EFVV4KQNSO5AEMVJF66Q9ASUAAJG',\n",
       "   'x-amz-crc32': '2745614147'},\n",
       "  'RetryAttempts': 0}}"
      ]
     },
     "execution_count": 32,
     "metadata": {},
     "output_type": "execute_result"
    }
   ],
   "source": [
    "table.delete_item(Key={'eid': 1})"
   ]
  },
  {
   "cell_type": "code",
   "execution_count": 33,
   "metadata": {},
   "outputs": [
    {
     "data": {
      "text/plain": [
       "{'Items': [{'a': {'a1': '1234 XYZ BLVD',\n",
       "    'c': 'Irving',\n",
       "    's': 'TX',\n",
       "    'pc': Decimal('75038')},\n",
       "   'ln': 'Harris',\n",
       "   'fn': 'Mark',\n",
       "   'eid': Decimal('2'),\n",
       "   'pn': [Decimal('3456789012')],\n",
       "   'sal': Decimal('2000')}],\n",
       " 'Count': 1,\n",
       " 'ScannedCount': 1,\n",
       " 'ResponseMetadata': {'RequestId': 'IF107I6LD9E31O49ISO5D6H98JVV4KQNSO5AEMVJF66Q9ASUAAJG',\n",
       "  'HTTPStatusCode': 200,\n",
       "  'HTTPHeaders': {'server': 'Server',\n",
       "   'date': 'Sat, 17 Feb 2024 11:36:49 GMT',\n",
       "   'content-type': 'application/x-amz-json-1.0',\n",
       "   'content-length': '237',\n",
       "   'connection': 'keep-alive',\n",
       "   'x-amzn-requestid': 'IF107I6LD9E31O49ISO5D6H98JVV4KQNSO5AEMVJF66Q9ASUAAJG',\n",
       "   'x-amz-crc32': '1827443650'},\n",
       "  'RetryAttempts': 0}}"
      ]
     },
     "execution_count": 33,
     "metadata": {},
     "output_type": "execute_result"
    }
   ],
   "source": [
    "table.scan()"
   ]
  },
  {
   "cell_type": "code",
   "execution_count": 34,
   "metadata": {},
   "outputs": [
    {
     "data": {
      "text/plain": [
       "{'TableDescription': {'TableName': 'employees',\n",
       "  'TableStatus': 'DELETING',\n",
       "  'ProvisionedThroughput': {'NumberOfDecreasesToday': 0,\n",
       "   'ReadCapacityUnits': 0,\n",
       "   'WriteCapacityUnits': 0},\n",
       "  'TableSizeBytes': 0,\n",
       "  'ItemCount': 0,\n",
       "  'TableArn': 'arn:aws:dynamodb:ap-southeast-1:530636435709:table/employees',\n",
       "  'TableId': '60a5684d-3437-4c8e-9868-30ae0ba34391',\n",
       "  'BillingModeSummary': {'BillingMode': 'PAY_PER_REQUEST',\n",
       "   'LastUpdateToPayPerRequestDateTime': datetime.datetime(2024, 2, 17, 18, 17, 32, 561000, tzinfo=tzlocal())},\n",
       "  'DeletionProtectionEnabled': False},\n",
       " 'ResponseMetadata': {'RequestId': 'KBISN5QIQNONLBH90OD90TUGBRVV4KQNSO5AEMVJF66Q9ASUAAJG',\n",
       "  'HTTPStatusCode': 200,\n",
       "  'HTTPHeaders': {'server': 'Server',\n",
       "   'date': 'Sat, 17 Feb 2024 11:36:54 GMT',\n",
       "   'content-type': 'application/x-amz-json-1.0',\n",
       "   'content-length': '591',\n",
       "   'connection': 'keep-alive',\n",
       "   'x-amzn-requestid': 'KBISN5QIQNONLBH90OD90TUGBRVV4KQNSO5AEMVJF66Q9ASUAAJG',\n",
       "   'x-amz-crc32': '1745193920'},\n",
       "  'RetryAttempts': 0}}"
      ]
     },
     "execution_count": 34,
     "metadata": {},
     "output_type": "execute_result"
    }
   ],
   "source": [
    "table.delete()"
   ]
  },
  {
   "cell_type": "code",
   "execution_count": 37,
   "metadata": {},
   "outputs": [
    {
     "name": "stdout",
     "output_type": "stream",
     "text": [
      "{\n",
      "    \"TableNames\": []\n",
      "}\n"
     ]
    }
   ],
   "source": [
    "%%sh\n",
    "\n",
    "aws dynamodb list-tables --profile itvgithub "
   ]
  },
  {
   "cell_type": "code",
   "execution_count": null,
   "metadata": {},
   "outputs": [],
   "source": []
  }
 ],
 "metadata": {
  "kernelspec": {
   "display_name": "Python 3 (ipykernel)",
   "language": "python",
   "name": "python3"
  },
  "language_info": {
   "codemirror_mode": {
    "name": "ipython",
    "version": 3
   },
   "file_extension": ".py",
   "mimetype": "text/x-python",
   "name": "python",
   "nbconvert_exporter": "python",
   "pygments_lexer": "ipython3",
   "version": "3.8.10"
  }
 },
 "nbformat": 4,
 "nbformat_minor": 4
}
